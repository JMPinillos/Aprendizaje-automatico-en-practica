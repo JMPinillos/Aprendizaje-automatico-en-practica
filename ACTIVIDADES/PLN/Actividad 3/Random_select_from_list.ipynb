{
  "cells": [
    {
      "cell_type": "markdown",
      "metadata": {
        "id": "NxsCKjYM7iKD"
      },
      "source": [
        "**Universidad Internacional de La Rioja (UNIR) - Máster Universitario en Inteligencia Artificial - Procesamiento del Lenguaje Natural**"
      ]
    },
    {
      "cell_type": "markdown",
      "metadata": {
        "id": "0yMiHaTJ7iKF"
      },
      "source": [
        "***\n",
        "## Sistema de elección de tema de trabajo\n",
        "***"
      ]
    },
    {
      "cell_type": "markdown",
      "metadata": {
        "id": "XmOzW0bQ7iKG"
      },
      "source": [
        "**Descripción e instrucciones de uso**\n",
        "\n",
        "El presente script contiene un sistema para elegir el tema de trabajo en la actividad grupal de la asignatura Procesamiento de Lenguaje Natural. Se trata de un sistema que elige un único tema de entre todos los disponibles. El sistema tiene las siguientes características:\n",
        "\n",
        "- El tema es elegido de forma pseudoaleatoria. Es decir, aunque parece una selección al azar, es un proceso completamente determinista.\n",
        "- Para el mismo conjunto de nombres (que es la variable de entrada), siempre se selecciona el mismo tema. El resultado es independiente del orden en el que los nombres son introducidos.\n",
        "\n",
        "**Instrucciones**:\n",
        "\n",
        "- 1. Asigna las variables name1, name2, name3, etc. Para ello, substituye el valor que viene por defecto, por los nombres de los miembros del grupo de trabajo. Da igual el orden.\n",
        "\n",
        "- 2. Ejecuta todas las celdas del script. El output de la celda final será el tema sobre el que debéis trabajar. Además, dicho tema está contenido en la variable _selection1_."
      ]
    },
    {
      "cell_type": "code",
      "execution_count": 6,
      "metadata": {
        "id": "ufmhmD8I7iKH"
      },
      "outputs": [],
      "source": [
        "name1 = \"JOSE MANUEL PINILLOS RUBIO\"\n",
        "name2 = \"JOSÉ HERNÁNDEZ BALBOA\"\n",
        "name3 = \"ALEJANDRO BENITO TRUJILLO\"\n",
        "name4 = \"\"\n",
        "name5 = \"\""
      ]
    },
    {
      "cell_type": "code",
      "execution_count": 7,
      "metadata": {
        "id": "WEEZuljE7iKI"
      },
      "outputs": [],
      "source": [
        "names = [name1, name2, name3, name4, name5]\n",
        "\n",
        "options = [\"Traducción automática\", \"Autocompletado y generación automática de resúmenes\",\"Análisis de sentimientos\",\"Question Answering\",\"Reconocimiento automático del habla y Text-to-speech\"]"
      ]
    },
    {
      "cell_type": "code",
      "execution_count": 8,
      "metadata": {
        "id": "-LFsXa617iKI"
      },
      "outputs": [],
      "source": [
        "name_third_char = []\n",
        "for name in names:\n",
        "    if len(name)>2:\n",
        "        name_third_char.append(name[2])"
      ]
    },
    {
      "cell_type": "code",
      "execution_count": 9,
      "metadata": {
        "id": "3zI_7QVU7iKJ"
      },
      "outputs": [],
      "source": [
        "total1 = 0\n",
        "for i in name_third_char:\n",
        "    total1 += ord(i.lower())\n",
        "\n",
        "\n",
        "selection_index1 = total1%len(options)\n",
        "selection1 = options[selection_index1]"
      ]
    },
    {
      "cell_type": "code",
      "execution_count": 10,
      "metadata": {
        "colab": {
          "base_uri": "https://localhost:8080/",
          "height": 111
        },
        "id": "hrh9xcXQ7iKJ",
        "outputId": "66bd7498-76e8-4449-f50d-ed4c13b00ca6"
      },
      "outputs": [
        {
          "output_type": "display_data",
          "data": {
            "text/plain": [
              "<IPython.core.display.Markdown object>"
            ],
            "text/markdown": "### La actividad de vuestro grupo deberá tratar sobre el siguiente tema:"
          },
          "metadata": {}
        },
        {
          "output_type": "display_data",
          "data": {
            "text/plain": [
              "<IPython.core.display.Markdown object>"
            ],
            "text/markdown": "# \"**Autocompletado y generación automática de resúmenes**\""
          },
          "metadata": {}
        }
      ],
      "source": [
        "from IPython.display import display, Markdown\n",
        "display(Markdown('### La actividad de vuestro grupo deberá tratar sobre el siguiente tema:'))\n",
        "display(Markdown('# \\\"**' + selection1 +'**\\\"'))\n"
      ]
    }
  ],
  "metadata": {
    "kernelspec": {
      "display_name": "Python 3 (ipykernel)",
      "language": "python",
      "name": "python3"
    },
    "language_info": {
      "codemirror_mode": {
        "name": "ipython",
        "version": 3
      },
      "file_extension": ".py",
      "mimetype": "text/x-python",
      "name": "python",
      "nbconvert_exporter": "python",
      "pygments_lexer": "ipython3",
      "version": "3.11.5"
    },
    "colab": {
      "provenance": []
    }
  },
  "nbformat": 4,
  "nbformat_minor": 0
}