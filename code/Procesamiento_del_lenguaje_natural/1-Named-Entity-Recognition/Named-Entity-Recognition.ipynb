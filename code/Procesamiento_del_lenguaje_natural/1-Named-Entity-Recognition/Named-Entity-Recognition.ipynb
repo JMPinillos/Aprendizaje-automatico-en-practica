{
 "cells": [
  {
   "cell_type": "markdown",
   "metadata": {
    "id": "rjK6XhYbmgE8"
   },
   "source": [
    "**Universidad Internacional de La Rioja (UNIR) - Máster Universitario en Inteligencia Artificial - Procesamiento del Lenguaje Natural**"
   ]
  },
  {
   "cell_type": "markdown",
   "metadata": {
    "id": "q408XNL0mgE-"
   },
   "source": [
    "***\n",
    "Datos del alumno (Nombre y Apellidos): Jose Manuel Pinillos Rubio\n",
    "\n",
    "Fecha: 11 de diciembre de 2024\n",
    "***"
   ]
  },
  {
   "cell_type": "markdown",
   "metadata": {
    "id": "lSly5JMpmgE-"
   },
   "source": [
    "<span style=\"font-size: 20pt; font-weight: bold; color: #0098cd;\">Named-Entity Recognition</span>\n",
    "\n",
    "**Objetivos**\n",
    "\n",
    "Con esta actividad se tratará de que el alumno se familiarice con el manejo de la librería spacy, así como con los conceptos básicos de manejo de las técnicas NER\n",
    "\n",
    "**Descripción**\n",
    "\n",
    "En esta actividad debes procesar de forma automática un texto en lenguaje natural para detectar características básicas en el mismo, y para identificar y etiquetar las ocurrencias de conceptos como localización, moneda, empresas, etc.\n",
    "\n",
    "En la primera parte del ejercicio se proporciona un código fuente a través del cual se lee un archivo de texto y se realiza un preprocesado del mismo. En esta parte el alumno tan sólo debe ejecutar y entender el código proporcionado.\n",
    "\n",
    "En la segunda parte del ejercicio se plantean una serie de preguntas que deben ser respondidas por el alumno. Cada pregunta deberá responderse con un fragmento de código fuente que esté acompañado de la explicación correspondiente. Para elaborar el código solicitado, el alumno deberá visitar la documentación de la librería spacy, cuyos enlaces se proporcionarán donde corresponda."
   ]
  },
  {
   "cell_type": "markdown",
   "metadata": {
    "id": "HNzoSRi3mgE_"
   },
   "source": [
    "# Parte 1: carga y preprocesamiento del texto a analizar"
   ]
  },
  {
   "cell_type": "markdown",
   "metadata": {
    "id": "GZCAS0PEmgE_"
   },
   "source": [
    "Observa las diferentes librerías que se están importando."
   ]
  },
  {
   "cell_type": "code",
   "execution_count": null,
   "metadata": {
    "colab": {
     "base_uri": "https://localhost:8080/"
    },
    "id": "olOjGP-OmgE_",
    "outputId": "f799f60c-0f2d-41ac-9dc1-d6cf7ea04beb"
   },
   "outputs": [
    {
     "name": "stdout",
     "output_type": "stream",
     "text": [
      "Collecting es-core-news-md==3.7.0\n",
      "  Downloading https://github.com/explosion/spacy-models/releases/download/es_core_news_md-3.7.0/es_core_news_md-3.7.0-py3-none-any.whl (42.3 MB)\n",
      "\u001b[2K     \u001b[90m━━━━━━━━━━━━━━━━━━━━━━━━━━━━━━━━━━━━━━━━\u001b[0m \u001b[32m42.3/42.3 MB\u001b[0m \u001b[31m14.1 MB/s\u001b[0m eta \u001b[36m0:00:00\u001b[0m\n",
      "\u001b[?25hRequirement already satisfied: spacy<3.8.0,>=3.7.0 in /usr/local/lib/python3.10/dist-packages (from es-core-news-md==3.7.0) (3.7.5)\n",
      "Requirement already satisfied: spacy-legacy<3.1.0,>=3.0.11 in /usr/local/lib/python3.10/dist-packages (from spacy<3.8.0,>=3.7.0->es-core-news-md==3.7.0) (3.0.12)\n",
      "Requirement already satisfied: spacy-loggers<2.0.0,>=1.0.0 in /usr/local/lib/python3.10/dist-packages (from spacy<3.8.0,>=3.7.0->es-core-news-md==3.7.0) (1.0.5)\n",
      "Requirement already satisfied: murmurhash<1.1.0,>=0.28.0 in /usr/local/lib/python3.10/dist-packages (from spacy<3.8.0,>=3.7.0->es-core-news-md==3.7.0) (1.0.11)\n",
      "Requirement already satisfied: cymem<2.1.0,>=2.0.2 in /usr/local/lib/python3.10/dist-packages (from spacy<3.8.0,>=3.7.0->es-core-news-md==3.7.0) (2.0.10)\n",
      "Requirement already satisfied: preshed<3.1.0,>=3.0.2 in /usr/local/lib/python3.10/dist-packages (from spacy<3.8.0,>=3.7.0->es-core-news-md==3.7.0) (3.0.9)\n",
      "Requirement already satisfied: thinc<8.3.0,>=8.2.2 in /usr/local/lib/python3.10/dist-packages (from spacy<3.8.0,>=3.7.0->es-core-news-md==3.7.0) (8.2.5)\n",
      "Requirement already satisfied: wasabi<1.2.0,>=0.9.1 in /usr/local/lib/python3.10/dist-packages (from spacy<3.8.0,>=3.7.0->es-core-news-md==3.7.0) (1.1.3)\n",
      "Requirement already satisfied: srsly<3.0.0,>=2.4.3 in /usr/local/lib/python3.10/dist-packages (from spacy<3.8.0,>=3.7.0->es-core-news-md==3.7.0) (2.4.8)\n",
      "Requirement already satisfied: catalogue<2.1.0,>=2.0.6 in /usr/local/lib/python3.10/dist-packages (from spacy<3.8.0,>=3.7.0->es-core-news-md==3.7.0) (2.0.10)\n",
      "Requirement already satisfied: weasel<0.5.0,>=0.1.0 in /usr/local/lib/python3.10/dist-packages (from spacy<3.8.0,>=3.7.0->es-core-news-md==3.7.0) (0.4.1)\n",
      "Requirement already satisfied: typer<1.0.0,>=0.3.0 in /usr/local/lib/python3.10/dist-packages (from spacy<3.8.0,>=3.7.0->es-core-news-md==3.7.0) (0.15.0)\n",
      "Requirement already satisfied: tqdm<5.0.0,>=4.38.0 in /usr/local/lib/python3.10/dist-packages (from spacy<3.8.0,>=3.7.0->es-core-news-md==3.7.0) (4.66.6)\n",
      "Requirement already satisfied: requests<3.0.0,>=2.13.0 in /usr/local/lib/python3.10/dist-packages (from spacy<3.8.0,>=3.7.0->es-core-news-md==3.7.0) (2.32.3)\n",
      "Requirement already satisfied: pydantic!=1.8,!=1.8.1,<3.0.0,>=1.7.4 in /usr/local/lib/python3.10/dist-packages (from spacy<3.8.0,>=3.7.0->es-core-news-md==3.7.0) (2.10.3)\n",
      "Requirement already satisfied: jinja2 in /usr/local/lib/python3.10/dist-packages (from spacy<3.8.0,>=3.7.0->es-core-news-md==3.7.0) (3.1.4)\n",
      "Requirement already satisfied: setuptools in /usr/local/lib/python3.10/dist-packages (from spacy<3.8.0,>=3.7.0->es-core-news-md==3.7.0) (75.1.0)\n",
      "Requirement already satisfied: packaging>=20.0 in /usr/local/lib/python3.10/dist-packages (from spacy<3.8.0,>=3.7.0->es-core-news-md==3.7.0) (24.2)\n",
      "Requirement already satisfied: langcodes<4.0.0,>=3.2.0 in /usr/local/lib/python3.10/dist-packages (from spacy<3.8.0,>=3.7.0->es-core-news-md==3.7.0) (3.5.0)\n",
      "Requirement already satisfied: numpy>=1.19.0 in /usr/local/lib/python3.10/dist-packages (from spacy<3.8.0,>=3.7.0->es-core-news-md==3.7.0) (1.26.4)\n",
      "Requirement already satisfied: language-data>=1.2 in /usr/local/lib/python3.10/dist-packages (from langcodes<4.0.0,>=3.2.0->spacy<3.8.0,>=3.7.0->es-core-news-md==3.7.0) (1.3.0)\n",
      "Requirement already satisfied: annotated-types>=0.6.0 in /usr/local/lib/python3.10/dist-packages (from pydantic!=1.8,!=1.8.1,<3.0.0,>=1.7.4->spacy<3.8.0,>=3.7.0->es-core-news-md==3.7.0) (0.7.0)\n",
      "Requirement already satisfied: pydantic-core==2.27.1 in /usr/local/lib/python3.10/dist-packages (from pydantic!=1.8,!=1.8.1,<3.0.0,>=1.7.4->spacy<3.8.0,>=3.7.0->es-core-news-md==3.7.0) (2.27.1)\n",
      "Requirement already satisfied: typing-extensions>=4.12.2 in /usr/local/lib/python3.10/dist-packages (from pydantic!=1.8,!=1.8.1,<3.0.0,>=1.7.4->spacy<3.8.0,>=3.7.0->es-core-news-md==3.7.0) (4.12.2)\n",
      "Requirement already satisfied: charset-normalizer<4,>=2 in /usr/local/lib/python3.10/dist-packages (from requests<3.0.0,>=2.13.0->spacy<3.8.0,>=3.7.0->es-core-news-md==3.7.0) (3.4.0)\n",
      "Requirement already satisfied: idna<4,>=2.5 in /usr/local/lib/python3.10/dist-packages (from requests<3.0.0,>=2.13.0->spacy<3.8.0,>=3.7.0->es-core-news-md==3.7.0) (3.10)\n",
      "Requirement already satisfied: urllib3<3,>=1.21.1 in /usr/local/lib/python3.10/dist-packages (from requests<3.0.0,>=2.13.0->spacy<3.8.0,>=3.7.0->es-core-news-md==3.7.0) (2.2.3)\n",
      "Requirement already satisfied: certifi>=2017.4.17 in /usr/local/lib/python3.10/dist-packages (from requests<3.0.0,>=2.13.0->spacy<3.8.0,>=3.7.0->es-core-news-md==3.7.0) (2024.8.30)\n",
      "Requirement already satisfied: blis<0.8.0,>=0.7.8 in /usr/local/lib/python3.10/dist-packages (from thinc<8.3.0,>=8.2.2->spacy<3.8.0,>=3.7.0->es-core-news-md==3.7.0) (0.7.11)\n",
      "Requirement already satisfied: confection<1.0.0,>=0.0.1 in /usr/local/lib/python3.10/dist-packages (from thinc<8.3.0,>=8.2.2->spacy<3.8.0,>=3.7.0->es-core-news-md==3.7.0) (0.1.5)\n",
      "Requirement already satisfied: click>=8.0.0 in /usr/local/lib/python3.10/dist-packages (from typer<1.0.0,>=0.3.0->spacy<3.8.0,>=3.7.0->es-core-news-md==3.7.0) (8.1.7)\n",
      "Requirement already satisfied: shellingham>=1.3.0 in /usr/local/lib/python3.10/dist-packages (from typer<1.0.0,>=0.3.0->spacy<3.8.0,>=3.7.0->es-core-news-md==3.7.0) (1.5.4)\n",
      "Requirement already satisfied: rich>=10.11.0 in /usr/local/lib/python3.10/dist-packages (from typer<1.0.0,>=0.3.0->spacy<3.8.0,>=3.7.0->es-core-news-md==3.7.0) (13.9.4)\n",
      "Requirement already satisfied: cloudpathlib<1.0.0,>=0.7.0 in /usr/local/lib/python3.10/dist-packages (from weasel<0.5.0,>=0.1.0->spacy<3.8.0,>=3.7.0->es-core-news-md==3.7.0) (0.20.0)\n",
      "Requirement already satisfied: smart-open<8.0.0,>=5.2.1 in /usr/local/lib/python3.10/dist-packages (from weasel<0.5.0,>=0.1.0->spacy<3.8.0,>=3.7.0->es-core-news-md==3.7.0) (7.0.5)\n",
      "Requirement already satisfied: MarkupSafe>=2.0 in /usr/local/lib/python3.10/dist-packages (from jinja2->spacy<3.8.0,>=3.7.0->es-core-news-md==3.7.0) (3.0.2)\n",
      "Requirement already satisfied: marisa-trie>=1.1.0 in /usr/local/lib/python3.10/dist-packages (from language-data>=1.2->langcodes<4.0.0,>=3.2.0->spacy<3.8.0,>=3.7.0->es-core-news-md==3.7.0) (1.2.1)\n",
      "Requirement already satisfied: markdown-it-py>=2.2.0 in /usr/local/lib/python3.10/dist-packages (from rich>=10.11.0->typer<1.0.0,>=0.3.0->spacy<3.8.0,>=3.7.0->es-core-news-md==3.7.0) (3.0.0)\n",
      "Requirement already satisfied: pygments<3.0.0,>=2.13.0 in /usr/local/lib/python3.10/dist-packages (from rich>=10.11.0->typer<1.0.0,>=0.3.0->spacy<3.8.0,>=3.7.0->es-core-news-md==3.7.0) (2.18.0)\n",
      "Requirement already satisfied: wrapt in /usr/local/lib/python3.10/dist-packages (from smart-open<8.0.0,>=5.2.1->weasel<0.5.0,>=0.1.0->spacy<3.8.0,>=3.7.0->es-core-news-md==3.7.0) (1.17.0)\n",
      "Requirement already satisfied: mdurl~=0.1 in /usr/local/lib/python3.10/dist-packages (from markdown-it-py>=2.2.0->rich>=10.11.0->typer<1.0.0,>=0.3.0->spacy<3.8.0,>=3.7.0->es-core-news-md==3.7.0) (0.1.2)\n",
      "Installing collected packages: es-core-news-md\n",
      "Successfully installed es-core-news-md-3.7.0\n",
      "\u001b[38;5;2m✔ Download and installation successful\u001b[0m\n",
      "You can now load the package via spacy.load('es_core_news_md')\n",
      "\u001b[38;5;3m⚠ Restart to reload dependencies\u001b[0m\n",
      "If you are in a Jupyter or Colab notebook, you may need to restart Python in\n",
      "order to load all the package's dependencies. You can do this by selecting the\n",
      "'Restart kernel' or 'Restart runtime' option.\n"
     ]
    }
   ],
   "source": [
    "import pathlib\n",
    "import spacy\n",
    "import pandas as pd\n",
    "import numpy as np\n",
    "import matplotlib.pyplot as plt\n",
    "from spacy import displacy\n",
    "import csv\n",
    "!python -m spacy download es_core_news_md\n",
    "import es_core_news_md"
   ]
  },
  {
   "cell_type": "markdown",
   "metadata": {
    "id": "loBexUjNmgFA"
   },
   "source": [
    "El siguiente código simplemente carga y preprocesa el texto. Para ello, lo primero que hace es cargar un modelo de lenguaje previamente entrenado. En este caso, se utiliza <i>es_core_news_md</i>:\n",
    "\n",
    "https://spacy.io/models/es#es_core_news_md\n"
   ]
  },
  {
   "cell_type": "code",
   "execution_count": null,
   "metadata": {
    "id": "uRo1VkxDmgFA"
   },
   "outputs": [],
   "source": [
    "nlp = es_core_news_md.load()"
   ]
  },
  {
   "cell_type": "markdown",
   "metadata": {
    "id": "P4_YJh9qmgFA"
   },
   "source": [
    "El objeto <i>nlp</i> permite utilizar el modelo de lenguaje cargado, de forma que se puede procesar un texto y obtenerlo en su versión preprocesada. Así, nos permite realizar las diferentes tareas. En este caso, vamos a utilizar el pipeline para hacer un preprocesamiento básico, que consiste en tokenizar el texto."
   ]
  },
  {
   "cell_type": "code",
   "execution_count": null,
   "metadata": {
    "colab": {
     "base_uri": "https://localhost:8080/"
    },
    "id": "m65_m32TpMW0",
    "outputId": "8714dbd5-efe5-4b9f-a1f4-a2689663d94a"
   },
   "outputs": [
    {
     "name": "stdout",
     "output_type": "stream",
     "text": [
      "El archivo tiene 656431 filas.\n"
     ]
    }
   ],
   "source": [
    "def count_rows_csv(filename):\n",
    "  # Abre el archivo en modo lectura, con codificación UTF-8 y omitiendo errores de codificación\n",
    "  with open(filename, 'r', encoding='utf-8', errors='ignore') as file:\n",
    "    # Crea un objeto lector para iterar sobre las filas del archivo CSV\n",
    "    reader = csv.reader(file)\n",
    "    # Salta la cabecera de la columna\n",
    "    next(reader, None)\n",
    "    # Cuenta el número de filas restantes en el archivo\n",
    "    row_count = sum(1 for row in reader)\n",
    "  return row_count\n",
    "\n",
    "filename = \"./02Dataset_sin_procesar.csv\"\n",
    "# Llama a la función y almacena el número de filas en num_rows\n",
    "num_rows = count_rows_csv(filename)\n",
    "print (f\"El archivo tiene {num_rows} filas.\")"
   ]
  },
  {
   "cell_type": "markdown",
   "metadata": {
    "id": "L2Xl72vipOYb"
   },
   "source": [
    "El código anterior analiza el documento y comprueba el número de líneas que tiene el fichero.\n",
    "Esto lo realizamos para comprobar que nuestro *dataset* concuerda con el necesario para realizar esta actividad."
   ]
  },
  {
   "cell_type": "code",
   "execution_count": null,
   "metadata": {
    "colab": {
     "base_uri": "https://localhost:8080/"
    },
    "id": "MxKq6rLymgFC",
    "outputId": "515f8c67-cc30-4dd4-da65-f4210303ee7b"
   },
   "outputs": [
    {
     "name": "stderr",
     "output_type": "stream",
     "text": [
      "<ipython-input-9-77553cb452ef>:2: DtypeWarning: Columns (5,6,7,8,9,10,11,12,13,14) have mixed types. Specify dtype option on import or set low_memory=False.\n",
      "  data = pd.read_csv(filename, delimiter=';', encoding='utf-8', encoding_errors='ignore')\n"
     ]
    }
   ],
   "source": [
    "filename = \"./02Dataset_sin_procesar.csv\"\n",
    "data = pd.read_csv(filename, delimiter=';', encoding='utf-8', encoding_errors='ignore')"
   ]
  },
  {
   "cell_type": "code",
   "execution_count": null,
   "metadata": {
    "colab": {
     "base_uri": "https://localhost:8080/",
     "height": 588
    },
    "id": "pDqZihHcwg5R",
    "outputId": "3b458ca9-446f-4e15-e250-d1278d03353a"
   },
   "outputs": [
    {
     "data": {
      "application/vnd.google.colaboratory.intrinsic+json": {
       "type": "dataframe",
       "variable_name": "data"
      },
      "text/html": [
       "\n",
       "  <div id=\"df-4dcc29bb-3eb3-4905-b330-b2f97a1c2cea\" class=\"colab-df-container\">\n",
       "    <div>\n",
       "<style scoped>\n",
       "    .dataframe tbody tr th:only-of-type {\n",
       "        vertical-align: middle;\n",
       "    }\n",
       "\n",
       "    .dataframe tbody tr th {\n",
       "        vertical-align: top;\n",
       "    }\n",
       "\n",
       "    .dataframe thead th {\n",
       "        text-align: right;\n",
       "    }\n",
       "</style>\n",
       "<table border=\"1\" class=\"dataframe\">\n",
       "  <thead>\n",
       "    <tr style=\"text-align: right;\">\n",
       "      <th></th>\n",
       "      <th>MEDIO</th>\n",
       "      <th>SOPORTE</th>\n",
       "      <th>URL</th>\n",
       "      <th>TIPO DE MENSAJE</th>\n",
       "      <th>CONTENIDO A ANALIZAR</th>\n",
       "      <th>INTENSIDAD</th>\n",
       "      <th>TIPO DE ODIO</th>\n",
       "      <th>TONO HUMORISTICO</th>\n",
       "      <th>MODIFICADOR</th>\n",
       "      <th>Unnamed: 9</th>\n",
       "      <th>Unnamed: 10</th>\n",
       "      <th>Unnamed: 11</th>\n",
       "      <th>Unnamed: 12</th>\n",
       "      <th>Unnamed: 13</th>\n",
       "      <th>Unnamed: 14</th>\n",
       "      <th>Unnamed: 15</th>\n",
       "    </tr>\n",
       "  </thead>\n",
       "  <tbody>\n",
       "    <tr>\n",
       "      <th>0</th>\n",
       "      <td>EL PAÍS</td>\n",
       "      <td>WEB</td>\n",
       "      <td>https://elpais.com/deportes/2021-01-20/alcoyan...</td>\n",
       "      <td>COMENTARIO</td>\n",
       "      <td>el barça nunca acaeza ante un segundo b ni ant...</td>\n",
       "      <td>3.0</td>\n",
       "      <td>Otros</td>\n",
       "      <td>NaN</td>\n",
       "      <td>NaN</td>\n",
       "      <td>NaN</td>\n",
       "      <td>NaN</td>\n",
       "      <td>NaN</td>\n",
       "      <td>NaN</td>\n",
       "      <td>NaN</td>\n",
       "      <td>NaN</td>\n",
       "      <td>NaN</td>\n",
       "    </tr>\n",
       "    <tr>\n",
       "      <th>1</th>\n",
       "      <td>EL PAÍS</td>\n",
       "      <td>WEB</td>\n",
       "      <td>https://elpais.com/deportes/2021-01-20/alcoyan...</td>\n",
       "      <td>COMENTARIO</td>\n",
       "      <td>el real madrid ha puesto punto y final a su an...</td>\n",
       "      <td>0.0</td>\n",
       "      <td>NaN</td>\n",
       "      <td>NaN</td>\n",
       "      <td>NaN</td>\n",
       "      <td>NaN</td>\n",
       "      <td>NaN</td>\n",
       "      <td>NaN</td>\n",
       "      <td>NaN</td>\n",
       "      <td>NaN</td>\n",
       "      <td>NaN</td>\n",
       "      <td>NaN</td>\n",
       "    </tr>\n",
       "    <tr>\n",
       "      <th>2</th>\n",
       "      <td>EL PAÍS</td>\n",
       "      <td>WEB</td>\n",
       "      <td>https://elpais.com/espana/2021-01-18/comienza-...</td>\n",
       "      <td>COMENTARIO</td>\n",
       "      <td>cristina cifuentes podría haber sido la presid...</td>\n",
       "      <td>3.0</td>\n",
       "      <td>Ideológico</td>\n",
       "      <td>NaN</td>\n",
       "      <td>NaN</td>\n",
       "      <td>NaN</td>\n",
       "      <td>NaN</td>\n",
       "      <td>NaN</td>\n",
       "      <td>NaN</td>\n",
       "      <td>NaN</td>\n",
       "      <td>NaN</td>\n",
       "      <td>NaN</td>\n",
       "    </tr>\n",
       "    <tr>\n",
       "      <th>3</th>\n",
       "      <td>EL PAÍS</td>\n",
       "      <td>WEB</td>\n",
       "      <td>https://elpais.com/espana/2021-01-18/comienza-...</td>\n",
       "      <td>COMENTARIO</td>\n",
       "      <td>habría que reabrir el caso. el supremo se dedi...</td>\n",
       "      <td>3.0</td>\n",
       "      <td>Ideológico</td>\n",
       "      <td>NaN</td>\n",
       "      <td>NaN</td>\n",
       "      <td>NaN</td>\n",
       "      <td>NaN</td>\n",
       "      <td>NaN</td>\n",
       "      <td>NaN</td>\n",
       "      <td>NaN</td>\n",
       "      <td>NaN</td>\n",
       "      <td>NaN</td>\n",
       "    </tr>\n",
       "    <tr>\n",
       "      <th>4</th>\n",
       "      <td>EL PAÍS</td>\n",
       "      <td>WEB</td>\n",
       "      <td>https://elpais.com/espana/2021-01-18/comienza-...</td>\n",
       "      <td>COMENTARIO</td>\n",
       "      <td>me parece un poco exagerado pedir más de tres ...</td>\n",
       "      <td>3.0</td>\n",
       "      <td>Ideológico</td>\n",
       "      <td>Si</td>\n",
       "      <td>NaN</td>\n",
       "      <td>NaN</td>\n",
       "      <td>NaN</td>\n",
       "      <td>NaN</td>\n",
       "      <td>NaN</td>\n",
       "      <td>NaN</td>\n",
       "      <td>NaN</td>\n",
       "      <td>NaN</td>\n",
       "    </tr>\n",
       "  </tbody>\n",
       "</table>\n",
       "</div>\n",
       "    <div class=\"colab-df-buttons\">\n",
       "\n",
       "  <div class=\"colab-df-container\">\n",
       "    <button class=\"colab-df-convert\" onclick=\"convertToInteractive('df-4dcc29bb-3eb3-4905-b330-b2f97a1c2cea')\"\n",
       "            title=\"Convert this dataframe to an interactive table.\"\n",
       "            style=\"display:none;\">\n",
       "\n",
       "  <svg xmlns=\"http://www.w3.org/2000/svg\" height=\"24px\" viewBox=\"0 -960 960 960\">\n",
       "    <path d=\"M120-120v-720h720v720H120Zm60-500h600v-160H180v160Zm220 220h160v-160H400v160Zm0 220h160v-160H400v160ZM180-400h160v-160H180v160Zm440 0h160v-160H620v160ZM180-180h160v-160H180v160Zm440 0h160v-160H620v160Z\"/>\n",
       "  </svg>\n",
       "    </button>\n",
       "\n",
       "  <style>\n",
       "    .colab-df-container {\n",
       "      display:flex;\n",
       "      gap: 12px;\n",
       "    }\n",
       "\n",
       "    .colab-df-convert {\n",
       "      background-color: #E8F0FE;\n",
       "      border: none;\n",
       "      border-radius: 50%;\n",
       "      cursor: pointer;\n",
       "      display: none;\n",
       "      fill: #1967D2;\n",
       "      height: 32px;\n",
       "      padding: 0 0 0 0;\n",
       "      width: 32px;\n",
       "    }\n",
       "\n",
       "    .colab-df-convert:hover {\n",
       "      background-color: #E2EBFA;\n",
       "      box-shadow: 0px 1px 2px rgba(60, 64, 67, 0.3), 0px 1px 3px 1px rgba(60, 64, 67, 0.15);\n",
       "      fill: #174EA6;\n",
       "    }\n",
       "\n",
       "    .colab-df-buttons div {\n",
       "      margin-bottom: 4px;\n",
       "    }\n",
       "\n",
       "    [theme=dark] .colab-df-convert {\n",
       "      background-color: #3B4455;\n",
       "      fill: #D2E3FC;\n",
       "    }\n",
       "\n",
       "    [theme=dark] .colab-df-convert:hover {\n",
       "      background-color: #434B5C;\n",
       "      box-shadow: 0px 1px 3px 1px rgba(0, 0, 0, 0.15);\n",
       "      filter: drop-shadow(0px 1px 2px rgba(0, 0, 0, 0.3));\n",
       "      fill: #FFFFFF;\n",
       "    }\n",
       "  </style>\n",
       "\n",
       "    <script>\n",
       "      const buttonEl =\n",
       "        document.querySelector('#df-4dcc29bb-3eb3-4905-b330-b2f97a1c2cea button.colab-df-convert');\n",
       "      buttonEl.style.display =\n",
       "        google.colab.kernel.accessAllowed ? 'block' : 'none';\n",
       "\n",
       "      async function convertToInteractive(key) {\n",
       "        const element = document.querySelector('#df-4dcc29bb-3eb3-4905-b330-b2f97a1c2cea');\n",
       "        const dataTable =\n",
       "          await google.colab.kernel.invokeFunction('convertToInteractive',\n",
       "                                                    [key], {});\n",
       "        if (!dataTable) return;\n",
       "\n",
       "        const docLinkHtml = 'Like what you see? Visit the ' +\n",
       "          '<a target=\"_blank\" href=https://colab.research.google.com/notebooks/data_table.ipynb>data table notebook</a>'\n",
       "          + ' to learn more about interactive tables.';\n",
       "        element.innerHTML = '';\n",
       "        dataTable['output_type'] = 'display_data';\n",
       "        await google.colab.output.renderOutput(dataTable, element);\n",
       "        const docLink = document.createElement('div');\n",
       "        docLink.innerHTML = docLinkHtml;\n",
       "        element.appendChild(docLink);\n",
       "      }\n",
       "    </script>\n",
       "  </div>\n",
       "\n",
       "\n",
       "<div id=\"df-2b3d8e08-ec26-43d6-8300-c82ada1a3246\">\n",
       "  <button class=\"colab-df-quickchart\" onclick=\"quickchart('df-2b3d8e08-ec26-43d6-8300-c82ada1a3246')\"\n",
       "            title=\"Suggest charts\"\n",
       "            style=\"display:none;\">\n",
       "\n",
       "<svg xmlns=\"http://www.w3.org/2000/svg\" height=\"24px\"viewBox=\"0 0 24 24\"\n",
       "     width=\"24px\">\n",
       "    <g>\n",
       "        <path d=\"M19 3H5c-1.1 0-2 .9-2 2v14c0 1.1.9 2 2 2h14c1.1 0 2-.9 2-2V5c0-1.1-.9-2-2-2zM9 17H7v-7h2v7zm4 0h-2V7h2v10zm4 0h-2v-4h2v4z\"/>\n",
       "    </g>\n",
       "</svg>\n",
       "  </button>\n",
       "\n",
       "<style>\n",
       "  .colab-df-quickchart {\n",
       "      --bg-color: #E8F0FE;\n",
       "      --fill-color: #1967D2;\n",
       "      --hover-bg-color: #E2EBFA;\n",
       "      --hover-fill-color: #174EA6;\n",
       "      --disabled-fill-color: #AAA;\n",
       "      --disabled-bg-color: #DDD;\n",
       "  }\n",
       "\n",
       "  [theme=dark] .colab-df-quickchart {\n",
       "      --bg-color: #3B4455;\n",
       "      --fill-color: #D2E3FC;\n",
       "      --hover-bg-color: #434B5C;\n",
       "      --hover-fill-color: #FFFFFF;\n",
       "      --disabled-bg-color: #3B4455;\n",
       "      --disabled-fill-color: #666;\n",
       "  }\n",
       "\n",
       "  .colab-df-quickchart {\n",
       "    background-color: var(--bg-color);\n",
       "    border: none;\n",
       "    border-radius: 50%;\n",
       "    cursor: pointer;\n",
       "    display: none;\n",
       "    fill: var(--fill-color);\n",
       "    height: 32px;\n",
       "    padding: 0;\n",
       "    width: 32px;\n",
       "  }\n",
       "\n",
       "  .colab-df-quickchart:hover {\n",
       "    background-color: var(--hover-bg-color);\n",
       "    box-shadow: 0 1px 2px rgba(60, 64, 67, 0.3), 0 1px 3px 1px rgba(60, 64, 67, 0.15);\n",
       "    fill: var(--button-hover-fill-color);\n",
       "  }\n",
       "\n",
       "  .colab-df-quickchart-complete:disabled,\n",
       "  .colab-df-quickchart-complete:disabled:hover {\n",
       "    background-color: var(--disabled-bg-color);\n",
       "    fill: var(--disabled-fill-color);\n",
       "    box-shadow: none;\n",
       "  }\n",
       "\n",
       "  .colab-df-spinner {\n",
       "    border: 2px solid var(--fill-color);\n",
       "    border-color: transparent;\n",
       "    border-bottom-color: var(--fill-color);\n",
       "    animation:\n",
       "      spin 1s steps(1) infinite;\n",
       "  }\n",
       "\n",
       "  @keyframes spin {\n",
       "    0% {\n",
       "      border-color: transparent;\n",
       "      border-bottom-color: var(--fill-color);\n",
       "      border-left-color: var(--fill-color);\n",
       "    }\n",
       "    20% {\n",
       "      border-color: transparent;\n",
       "      border-left-color: var(--fill-color);\n",
       "      border-top-color: var(--fill-color);\n",
       "    }\n",
       "    30% {\n",
       "      border-color: transparent;\n",
       "      border-left-color: var(--fill-color);\n",
       "      border-top-color: var(--fill-color);\n",
       "      border-right-color: var(--fill-color);\n",
       "    }\n",
       "    40% {\n",
       "      border-color: transparent;\n",
       "      border-right-color: var(--fill-color);\n",
       "      border-top-color: var(--fill-color);\n",
       "    }\n",
       "    60% {\n",
       "      border-color: transparent;\n",
       "      border-right-color: var(--fill-color);\n",
       "    }\n",
       "    80% {\n",
       "      border-color: transparent;\n",
       "      border-right-color: var(--fill-color);\n",
       "      border-bottom-color: var(--fill-color);\n",
       "    }\n",
       "    90% {\n",
       "      border-color: transparent;\n",
       "      border-bottom-color: var(--fill-color);\n",
       "    }\n",
       "  }\n",
       "</style>\n",
       "\n",
       "  <script>\n",
       "    async function quickchart(key) {\n",
       "      const quickchartButtonEl =\n",
       "        document.querySelector('#' + key + ' button');\n",
       "      quickchartButtonEl.disabled = true;  // To prevent multiple clicks.\n",
       "      quickchartButtonEl.classList.add('colab-df-spinner');\n",
       "      try {\n",
       "        const charts = await google.colab.kernel.invokeFunction(\n",
       "            'suggestCharts', [key], {});\n",
       "      } catch (error) {\n",
       "        console.error('Error during call to suggestCharts:', error);\n",
       "      }\n",
       "      quickchartButtonEl.classList.remove('colab-df-spinner');\n",
       "      quickchartButtonEl.classList.add('colab-df-quickchart-complete');\n",
       "    }\n",
       "    (() => {\n",
       "      let quickchartButtonEl =\n",
       "        document.querySelector('#df-2b3d8e08-ec26-43d6-8300-c82ada1a3246 button');\n",
       "      quickchartButtonEl.style.display =\n",
       "        google.colab.kernel.accessAllowed ? 'block' : 'none';\n",
       "    })();\n",
       "  </script>\n",
       "</div>\n",
       "\n",
       "    </div>\n",
       "  </div>\n"
      ],
      "text/plain": [
       "      MEDIO SOPORTE                                                URL  \\\n",
       "0  EL PAÍS      WEB  https://elpais.com/deportes/2021-01-20/alcoyan...   \n",
       "1  EL PAÍS      WEB  https://elpais.com/deportes/2021-01-20/alcoyan...   \n",
       "2  EL PAÍS      WEB  https://elpais.com/espana/2021-01-18/comienza-...   \n",
       "3  EL PAÍS      WEB  https://elpais.com/espana/2021-01-18/comienza-...   \n",
       "4  EL PAÍS      WEB  https://elpais.com/espana/2021-01-18/comienza-...   \n",
       "\n",
       "  TIPO DE MENSAJE                               CONTENIDO A ANALIZAR  \\\n",
       "0      COMENTARIO  el barça nunca acaeza ante un segundo b ni ant...   \n",
       "1      COMENTARIO  el real madrid ha puesto punto y final a su an...   \n",
       "2      COMENTARIO  cristina cifuentes podría haber sido la presid...   \n",
       "3      COMENTARIO  habría que reabrir el caso. el supremo se dedi...   \n",
       "4      COMENTARIO  me parece un poco exagerado pedir más de tres ...   \n",
       "\n",
       "  INTENSIDAD TIPO DE ODIO TONO HUMORISTICO MODIFICADOR Unnamed: 9 Unnamed: 10  \\\n",
       "0        3.0        Otros              NaN         NaN        NaN         NaN   \n",
       "1        0.0          NaN              NaN         NaN        NaN         NaN   \n",
       "2        3.0   Ideológico              NaN         NaN        NaN         NaN   \n",
       "3        3.0   Ideológico              NaN         NaN        NaN         NaN   \n",
       "4        3.0   Ideológico               Si         NaN        NaN         NaN   \n",
       "\n",
       "  Unnamed: 11 Unnamed: 12 Unnamed: 13 Unnamed: 14  Unnamed: 15  \n",
       "0         NaN         NaN         NaN         NaN          NaN  \n",
       "1         NaN         NaN         NaN         NaN          NaN  \n",
       "2         NaN         NaN         NaN         NaN          NaN  \n",
       "3         NaN         NaN         NaN         NaN          NaN  \n",
       "4         NaN         NaN         NaN         NaN          NaN  "
      ]
     },
     "execution_count": 17,
     "metadata": {},
     "output_type": "execute_result"
    }
   ],
   "source": [
    "data.head()"
   ]
  },
  {
   "cell_type": "markdown",
   "metadata": {
    "id": "jH7QHDcXmgFC"
   },
   "source": [
    "El código anterior carga el archivo CSV (opcionalmente con un límite de líneas a leer) y genera la variable <i>data</i>, que contiene un Dataframe (https://pandas.pydata.org/docs/reference/api/pandas.DataFrame.html) con los datos leídos del CSV."
   ]
  },
  {
   "cell_type": "code",
   "execution_count": null,
   "metadata": {
    "colab": {
     "base_uri": "https://localhost:8080/",
     "height": 452
    },
    "id": "VRJRWm7Mq3YK",
    "outputId": "be9828e9-e16d-47dd-a943-86d0c3ce1b36"
   },
   "outputs": [
    {
     "data": {
      "application/vnd.google.colaboratory.intrinsic+json": {
       "repr_error": "0",
       "type": "dataframe",
       "variable_name": "sample_data"
      },
      "text/html": [
       "\n",
       "  <div id=\"df-d91dee98-ed35-4a1b-882a-f79dccb9b379\" class=\"colab-df-container\">\n",
       "    <div>\n",
       "<style scoped>\n",
       "    .dataframe tbody tr th:only-of-type {\n",
       "        vertical-align: middle;\n",
       "    }\n",
       "\n",
       "    .dataframe tbody tr th {\n",
       "        vertical-align: top;\n",
       "    }\n",
       "\n",
       "    .dataframe thead th {\n",
       "        text-align: right;\n",
       "    }\n",
       "</style>\n",
       "<table border=\"1\" class=\"dataframe\">\n",
       "  <thead>\n",
       "    <tr style=\"text-align: right;\">\n",
       "      <th></th>\n",
       "      <th>MEDIO</th>\n",
       "      <th>SOPORTE</th>\n",
       "      <th>URL</th>\n",
       "      <th>TIPO DE MENSAJE</th>\n",
       "      <th>CONTENIDO A ANALIZAR</th>\n",
       "      <th>INTENSIDAD</th>\n",
       "      <th>TIPO DE ODIO</th>\n",
       "      <th>TONO HUMORISTICO</th>\n",
       "      <th>MODIFICADOR</th>\n",
       "      <th>Unnamed: 9</th>\n",
       "      <th>Unnamed: 10</th>\n",
       "      <th>Unnamed: 11</th>\n",
       "      <th>Unnamed: 12</th>\n",
       "      <th>Unnamed: 13</th>\n",
       "      <th>Unnamed: 14</th>\n",
       "      <th>Unnamed: 15</th>\n",
       "    </tr>\n",
       "  </thead>\n",
       "  <tbody>\n",
       "    <tr>\n",
       "      <th>443655</th>\n",
       "      <td>EL PAÍS</td>\n",
       "      <td>WEB</td>\n",
       "      <td>https://www.elpais.com/internacional/2021-08-1...</td>\n",
       "      <td>NOTICIA</td>\n",
       "      <td>dos días después de dirigirse a la nación con ...</td>\n",
       "      <td>0.0</td>\n",
       "      <td>NaN</td>\n",
       "      <td>NaN</td>\n",
       "      <td>NaN</td>\n",
       "      <td>NaN</td>\n",
       "      <td>NaN</td>\n",
       "      <td>NaN</td>\n",
       "      <td>NaN</td>\n",
       "      <td>NaN</td>\n",
       "      <td>NaN</td>\n",
       "      <td>NaN</td>\n",
       "    </tr>\n",
       "    <tr>\n",
       "      <th>470578</th>\n",
       "      <td>EL MUNDO</td>\n",
       "      <td>TWITTER</td>\n",
       "      <td>https://twitter.com/633257588/status/134905959...</td>\n",
       "      <td>COMENTARIO</td>\n",
       "      <td>pocos son</td>\n",
       "      <td>0.0</td>\n",
       "      <td>NaN</td>\n",
       "      <td>NaN</td>\n",
       "      <td>NaN</td>\n",
       "      <td>NaN</td>\n",
       "      <td>NaN</td>\n",
       "      <td>NaN</td>\n",
       "      <td>NaN</td>\n",
       "      <td>NaN</td>\n",
       "      <td>NaN</td>\n",
       "      <td>NaN</td>\n",
       "    </tr>\n",
       "    <tr>\n",
       "      <th>185583</th>\n",
       "      <td>20MIN</td>\n",
       "      <td>WEB</td>\n",
       "      <td>https://www.20minutos.es/noticia/4555609/0/apu...</td>\n",
       "      <td>COMENTARIO</td>\n",
       "      <td>avisen cuando a los 4 millones de parados nos ...</td>\n",
       "      <td>0.0</td>\n",
       "      <td>NaN</td>\n",
       "      <td>NaN</td>\n",
       "      <td>NaN</td>\n",
       "      <td>NaN</td>\n",
       "      <td>NaN</td>\n",
       "      <td>NaN</td>\n",
       "      <td>NaN</td>\n",
       "      <td>NaN</td>\n",
       "      <td>NaN</td>\n",
       "      <td>NaN</td>\n",
       "    </tr>\n",
       "    <tr>\n",
       "      <th>332547</th>\n",
       "      <td>La Vanguardia</td>\n",
       "      <td>WEB</td>\n",
       "      <td>https://www.lavanguardia.com/politica/20210119...</td>\n",
       "      <td>COMENTARIO</td>\n",
       "      <td>@tristissima noctis imago @lamosca no creo que...</td>\n",
       "      <td>0.0</td>\n",
       "      <td>NaN</td>\n",
       "      <td>NaN</td>\n",
       "      <td>NaN</td>\n",
       "      <td>NaN</td>\n",
       "      <td>NaN</td>\n",
       "      <td>NaN</td>\n",
       "      <td>NaN</td>\n",
       "      <td>NaN</td>\n",
       "      <td>NaN</td>\n",
       "      <td>NaN</td>\n",
       "    </tr>\n",
       "    <tr>\n",
       "      <th>451006</th>\n",
       "      <td>EL PAÍS</td>\n",
       "      <td>WEB</td>\n",
       "      <td>https://www.elpais.com/opinion/2021-06-07/los-...</td>\n",
       "      <td>TITULAR NOTICIA</td>\n",
       "      <td>los sepultureros del derecho comunitario</td>\n",
       "      <td>0.0</td>\n",
       "      <td>NaN</td>\n",
       "      <td>NaN</td>\n",
       "      <td>NaN</td>\n",
       "      <td>NaN</td>\n",
       "      <td>NaN</td>\n",
       "      <td>NaN</td>\n",
       "      <td>NaN</td>\n",
       "      <td>NaN</td>\n",
       "      <td>NaN</td>\n",
       "      <td>NaN</td>\n",
       "    </tr>\n",
       "  </tbody>\n",
       "</table>\n",
       "</div>\n",
       "    <div class=\"colab-df-buttons\">\n",
       "\n",
       "  <div class=\"colab-df-container\">\n",
       "    <button class=\"colab-df-convert\" onclick=\"convertToInteractive('df-d91dee98-ed35-4a1b-882a-f79dccb9b379')\"\n",
       "            title=\"Convert this dataframe to an interactive table.\"\n",
       "            style=\"display:none;\">\n",
       "\n",
       "  <svg xmlns=\"http://www.w3.org/2000/svg\" height=\"24px\" viewBox=\"0 -960 960 960\">\n",
       "    <path d=\"M120-120v-720h720v720H120Zm60-500h600v-160H180v160Zm220 220h160v-160H400v160Zm0 220h160v-160H400v160ZM180-400h160v-160H180v160Zm440 0h160v-160H620v160ZM180-180h160v-160H180v160Zm440 0h160v-160H620v160Z\"/>\n",
       "  </svg>\n",
       "    </button>\n",
       "\n",
       "  <style>\n",
       "    .colab-df-container {\n",
       "      display:flex;\n",
       "      gap: 12px;\n",
       "    }\n",
       "\n",
       "    .colab-df-convert {\n",
       "      background-color: #E8F0FE;\n",
       "      border: none;\n",
       "      border-radius: 50%;\n",
       "      cursor: pointer;\n",
       "      display: none;\n",
       "      fill: #1967D2;\n",
       "      height: 32px;\n",
       "      padding: 0 0 0 0;\n",
       "      width: 32px;\n",
       "    }\n",
       "\n",
       "    .colab-df-convert:hover {\n",
       "      background-color: #E2EBFA;\n",
       "      box-shadow: 0px 1px 2px rgba(60, 64, 67, 0.3), 0px 1px 3px 1px rgba(60, 64, 67, 0.15);\n",
       "      fill: #174EA6;\n",
       "    }\n",
       "\n",
       "    .colab-df-buttons div {\n",
       "      margin-bottom: 4px;\n",
       "    }\n",
       "\n",
       "    [theme=dark] .colab-df-convert {\n",
       "      background-color: #3B4455;\n",
       "      fill: #D2E3FC;\n",
       "    }\n",
       "\n",
       "    [theme=dark] .colab-df-convert:hover {\n",
       "      background-color: #434B5C;\n",
       "      box-shadow: 0px 1px 3px 1px rgba(0, 0, 0, 0.15);\n",
       "      filter: drop-shadow(0px 1px 2px rgba(0, 0, 0, 0.3));\n",
       "      fill: #FFFFFF;\n",
       "    }\n",
       "  </style>\n",
       "\n",
       "    <script>\n",
       "      const buttonEl =\n",
       "        document.querySelector('#df-d91dee98-ed35-4a1b-882a-f79dccb9b379 button.colab-df-convert');\n",
       "      buttonEl.style.display =\n",
       "        google.colab.kernel.accessAllowed ? 'block' : 'none';\n",
       "\n",
       "      async function convertToInteractive(key) {\n",
       "        const element = document.querySelector('#df-d91dee98-ed35-4a1b-882a-f79dccb9b379');\n",
       "        const dataTable =\n",
       "          await google.colab.kernel.invokeFunction('convertToInteractive',\n",
       "                                                    [key], {});\n",
       "        if (!dataTable) return;\n",
       "\n",
       "        const docLinkHtml = 'Like what you see? Visit the ' +\n",
       "          '<a target=\"_blank\" href=https://colab.research.google.com/notebooks/data_table.ipynb>data table notebook</a>'\n",
       "          + ' to learn more about interactive tables.';\n",
       "        element.innerHTML = '';\n",
       "        dataTable['output_type'] = 'display_data';\n",
       "        await google.colab.output.renderOutput(dataTable, element);\n",
       "        const docLink = document.createElement('div');\n",
       "        docLink.innerHTML = docLinkHtml;\n",
       "        element.appendChild(docLink);\n",
       "      }\n",
       "    </script>\n",
       "  </div>\n",
       "\n",
       "\n",
       "<div id=\"df-ef604dfc-8a37-40cc-a19b-6e8d43b7d33c\">\n",
       "  <button class=\"colab-df-quickchart\" onclick=\"quickchart('df-ef604dfc-8a37-40cc-a19b-6e8d43b7d33c')\"\n",
       "            title=\"Suggest charts\"\n",
       "            style=\"display:none;\">\n",
       "\n",
       "<svg xmlns=\"http://www.w3.org/2000/svg\" height=\"24px\"viewBox=\"0 0 24 24\"\n",
       "     width=\"24px\">\n",
       "    <g>\n",
       "        <path d=\"M19 3H5c-1.1 0-2 .9-2 2v14c0 1.1.9 2 2 2h14c1.1 0 2-.9 2-2V5c0-1.1-.9-2-2-2zM9 17H7v-7h2v7zm4 0h-2V7h2v10zm4 0h-2v-4h2v4z\"/>\n",
       "    </g>\n",
       "</svg>\n",
       "  </button>\n",
       "\n",
       "<style>\n",
       "  .colab-df-quickchart {\n",
       "      --bg-color: #E8F0FE;\n",
       "      --fill-color: #1967D2;\n",
       "      --hover-bg-color: #E2EBFA;\n",
       "      --hover-fill-color: #174EA6;\n",
       "      --disabled-fill-color: #AAA;\n",
       "      --disabled-bg-color: #DDD;\n",
       "  }\n",
       "\n",
       "  [theme=dark] .colab-df-quickchart {\n",
       "      --bg-color: #3B4455;\n",
       "      --fill-color: #D2E3FC;\n",
       "      --hover-bg-color: #434B5C;\n",
       "      --hover-fill-color: #FFFFFF;\n",
       "      --disabled-bg-color: #3B4455;\n",
       "      --disabled-fill-color: #666;\n",
       "  }\n",
       "\n",
       "  .colab-df-quickchart {\n",
       "    background-color: var(--bg-color);\n",
       "    border: none;\n",
       "    border-radius: 50%;\n",
       "    cursor: pointer;\n",
       "    display: none;\n",
       "    fill: var(--fill-color);\n",
       "    height: 32px;\n",
       "    padding: 0;\n",
       "    width: 32px;\n",
       "  }\n",
       "\n",
       "  .colab-df-quickchart:hover {\n",
       "    background-color: var(--hover-bg-color);\n",
       "    box-shadow: 0 1px 2px rgba(60, 64, 67, 0.3), 0 1px 3px 1px rgba(60, 64, 67, 0.15);\n",
       "    fill: var(--button-hover-fill-color);\n",
       "  }\n",
       "\n",
       "  .colab-df-quickchart-complete:disabled,\n",
       "  .colab-df-quickchart-complete:disabled:hover {\n",
       "    background-color: var(--disabled-bg-color);\n",
       "    fill: var(--disabled-fill-color);\n",
       "    box-shadow: none;\n",
       "  }\n",
       "\n",
       "  .colab-df-spinner {\n",
       "    border: 2px solid var(--fill-color);\n",
       "    border-color: transparent;\n",
       "    border-bottom-color: var(--fill-color);\n",
       "    animation:\n",
       "      spin 1s steps(1) infinite;\n",
       "  }\n",
       "\n",
       "  @keyframes spin {\n",
       "    0% {\n",
       "      border-color: transparent;\n",
       "      border-bottom-color: var(--fill-color);\n",
       "      border-left-color: var(--fill-color);\n",
       "    }\n",
       "    20% {\n",
       "      border-color: transparent;\n",
       "      border-left-color: var(--fill-color);\n",
       "      border-top-color: var(--fill-color);\n",
       "    }\n",
       "    30% {\n",
       "      border-color: transparent;\n",
       "      border-left-color: var(--fill-color);\n",
       "      border-top-color: var(--fill-color);\n",
       "      border-right-color: var(--fill-color);\n",
       "    }\n",
       "    40% {\n",
       "      border-color: transparent;\n",
       "      border-right-color: var(--fill-color);\n",
       "      border-top-color: var(--fill-color);\n",
       "    }\n",
       "    60% {\n",
       "      border-color: transparent;\n",
       "      border-right-color: var(--fill-color);\n",
       "    }\n",
       "    80% {\n",
       "      border-color: transparent;\n",
       "      border-right-color: var(--fill-color);\n",
       "      border-bottom-color: var(--fill-color);\n",
       "    }\n",
       "    90% {\n",
       "      border-color: transparent;\n",
       "      border-bottom-color: var(--fill-color);\n",
       "    }\n",
       "  }\n",
       "</style>\n",
       "\n",
       "  <script>\n",
       "    async function quickchart(key) {\n",
       "      const quickchartButtonEl =\n",
       "        document.querySelector('#' + key + ' button');\n",
       "      quickchartButtonEl.disabled = true;  // To prevent multiple clicks.\n",
       "      quickchartButtonEl.classList.add('colab-df-spinner');\n",
       "      try {\n",
       "        const charts = await google.colab.kernel.invokeFunction(\n",
       "            'suggestCharts', [key], {});\n",
       "      } catch (error) {\n",
       "        console.error('Error during call to suggestCharts:', error);\n",
       "      }\n",
       "      quickchartButtonEl.classList.remove('colab-df-spinner');\n",
       "      quickchartButtonEl.classList.add('colab-df-quickchart-complete');\n",
       "    }\n",
       "    (() => {\n",
       "      let quickchartButtonEl =\n",
       "        document.querySelector('#df-ef604dfc-8a37-40cc-a19b-6e8d43b7d33c button');\n",
       "      quickchartButtonEl.style.display =\n",
       "        google.colab.kernel.accessAllowed ? 'block' : 'none';\n",
       "    })();\n",
       "  </script>\n",
       "</div>\n",
       "\n",
       "    </div>\n",
       "  </div>\n"
      ],
      "text/plain": [
       "                MEDIO  SOPORTE  \\\n",
       "443655       EL PAÍS       WEB   \n",
       "470578       EL MUNDO  TWITTER   \n",
       "185583          20MIN      WEB   \n",
       "332547  La Vanguardia      WEB   \n",
       "451006       EL PAÍS       WEB   \n",
       "\n",
       "                                                      URL  TIPO DE MENSAJE  \\\n",
       "443655  https://www.elpais.com/internacional/2021-08-1...          NOTICIA   \n",
       "470578  https://twitter.com/633257588/status/134905959...       COMENTARIO   \n",
       "185583  https://www.20minutos.es/noticia/4555609/0/apu...       COMENTARIO   \n",
       "332547  https://www.lavanguardia.com/politica/20210119...       COMENTARIO   \n",
       "451006  https://www.elpais.com/opinion/2021-06-07/los-...  TITULAR NOTICIA   \n",
       "\n",
       "                                     CONTENIDO A ANALIZAR INTENSIDAD  \\\n",
       "443655  dos días después de dirigirse a la nación con ...        0.0   \n",
       "470578                                          pocos son        0.0   \n",
       "185583  avisen cuando a los 4 millones de parados nos ...        0.0   \n",
       "332547  @tristissima noctis imago @lamosca no creo que...        0.0   \n",
       "451006           los sepultureros del derecho comunitario        0.0   \n",
       "\n",
       "       TIPO DE ODIO TONO HUMORISTICO MODIFICADOR Unnamed: 9 Unnamed: 10  \\\n",
       "443655          NaN              NaN         NaN        NaN         NaN   \n",
       "470578          NaN              NaN         NaN        NaN         NaN   \n",
       "185583          NaN              NaN         NaN        NaN         NaN   \n",
       "332547          NaN              NaN         NaN        NaN         NaN   \n",
       "451006          NaN              NaN         NaN        NaN         NaN   \n",
       "\n",
       "       Unnamed: 11 Unnamed: 12 Unnamed: 13 Unnamed: 14  Unnamed: 15  \n",
       "443655         NaN         NaN         NaN         NaN          NaN  \n",
       "470578         NaN         NaN         NaN         NaN          NaN  \n",
       "185583         NaN         NaN         NaN         NaN          NaN  \n",
       "332547         NaN         NaN         NaN         NaN          NaN  \n",
       "451006         NaN         NaN         NaN         NaN          NaN  "
      ]
     },
     "execution_count": 19,
     "metadata": {},
     "output_type": "execute_result"
    }
   ],
   "source": [
    "# Número de filas a seleccionar\n",
    "lines_number = 20000\n",
    "\n",
    "# Seleccionamos un subconjunto aleatorio de filas del Dataframe 'data'.\n",
    "sample_data = data.sample(n=lines_number, random_state=13)\n",
    "\n",
    "# Mostramos las 5 primeras filas del dataframe\n",
    "sample_data.head()"
   ]
  },
  {
   "cell_type": "markdown",
   "metadata": {
    "id": "fd2LrOpas9By"
   },
   "source": [
    "El código selecciona una muestra aleatoria  de 20.000 filas del *dataset* original, que consta de 656431 filas. Esta selección se realiza con el fin de reducir el tamaño del *dataset* para que el procesamiento y análisis sean más rápidos y manejables, sin comprometer la representatividad de los datos.\n",
    "\n",
    "La función `sample()` se utiliza para extraer las filas de manera aleatoria. El argumento `n=lines_number` especifica el tamaño de la muestra, en este caso 20.000 filas. Para garantizar que el subconjunto seleccionado sea reproducible en futuros análisis, se utiliza el parámetro `random_state=13`, que actúa como semilla. Esto asegura que, si se ejecuta el código varias veces con el mismo *dataset* y la misma semilla, el subconjunto seleccionado será idéntico.\n",
    "\n",
    "Finalmente, el método `head()` lo empleamos para mostrar las primeras cinco filas del *dataset* resultante, permitiendo verificar que la operación se ha realizado correctamente."
   ]
  },
  {
   "cell_type": "code",
   "execution_count": null,
   "metadata": {
    "colab": {
     "base_uri": "https://localhost:8080/",
     "height": 607
    },
    "id": "2DRpvZb_6cOi",
    "outputId": "092075af-4bd8-4055-a3e8-d508cb120e8d"
   },
   "outputs": [
    {
     "data": {
      "image/png": "[encoded data removed]",
      "text/plain": [
       "<Figure size 1400x600 with 1 Axes>"
      ]
     },
     "metadata": {},
     "output_type": "display_data"
    }
   ],
   "source": [
    "# Obtenemos todas las categorías posibles\n",
    "all_categories = pd.concat([data['TIPO DE MENSAJE'], sample_data['TIPO DE MENSAJE']]).unique()\n",
    "\n",
    "# Calculamos los porcentajes para el dataset completo y reindexar\n",
    "tipo_mensaje_counts = data['TIPO DE MENSAJE'].value_counts(normalize=True)\n",
    "tipo_mensaje_percentage = (tipo_mensaje_counts * 100).round(2)\n",
    "tipo_mensaje_percentage = tipo_mensaje_percentage.reindex(all_categories, fill_value=0)  # Rellenar categorías faltantes con 0\n",
    "\n",
    "# Calculamos los porcentajes para la muestra y reindexar\n",
    "sample_tipo_mensaje_counts = sample_data['TIPO DE MENSAJE'].value_counts(normalize=True)\n",
    "sample_tipo_mensaje_percentage = (sample_tipo_mensaje_counts * 100).round(2)\n",
    "sample_tipo_mensaje_percentage = sample_tipo_mensaje_percentage.reindex(all_categories, fill_value=0)  # Rellenar categorías faltantes con 0\n",
    "\n",
    "# Configuramos el tamaño de la figura\n",
    "plt.figure(figsize=(14, 6))\n",
    "\n",
    "# Indices para las barras\n",
    "index = np.arange(len(tipo_mensaje_percentage))  # Asume que ambos tienen los mismos tipos de mensajes\n",
    "\n",
    "# Ancho de las barras\n",
    "bar_width = 0.35\n",
    "\n",
    "# Creamos las barras para el dataset completo\n",
    "plt.bar(index, tipo_mensaje_percentage.values, bar_width, label='Dataset Completo')\n",
    "\n",
    "# Creamos las barras para la muestra\n",
    "plt.bar(index + bar_width, sample_tipo_mensaje_percentage.values, bar_width, label='Muestra')\n",
    "\n",
    "# Añadimos el título y las etiquetas\n",
    "plt.xlabel('Tipo de Mensaje')\n",
    "plt.ylabel('Porcentaje')\n",
    "plt.title('Comparativa de Tipo de Mensajes entre Dataset Completo y Muestra')\n",
    "plt.xticks(index + bar_width / 2, tipo_mensaje_percentage.index, rotation=45)  # Ajustar los ticks para que aparezcan en el medio\n",
    "\n",
    "# Añadimos la leyenda\n",
    "plt.legend()\n",
    "\n",
    "# Ajustamos los límites del eje Y para enfocar en un rango más estrecho\n",
    "plt.ylim(ymin=0, ymax=tipo_mensaje_percentage.max() + 10)  # Aumentamos un poco sobre el máximo para mejorrar la visualización\n",
    "\n",
    "# Loop para agregar etiquetas en las barras del dataset completo\n",
    "for i in range(len(index)):\n",
    "    plt.text(i, tipo_mensaje_percentage.values[i] + 0.5, f'{tipo_mensaje_percentage.values[i]}%', ha='center', va='bottom')\n",
    "\n",
    "# Loop para agregar etiquetas en las barras de la muestra\n",
    "for i in range(len(index)):\n",
    "    plt.text(i + bar_width, sample_tipo_mensaje_percentage.values[i] + 0.5, f'{sample_tipo_mensaje_percentage.values[i]}%', ha='center', va='bottom')\n",
    "\n",
    "# Mostramos la gráfica\n",
    "plt.tight_layout()\n",
    "plt.show()"
   ]
  },
  {
   "cell_type": "markdown",
   "metadata": {
    "id": "VuGXq_vU8EP4"
   },
   "source": [
    "El objetivo del código es verificar si la muestra seleccionada del *dataset* es representativa del conjunto completo de datos. Esto resulta fundamental para garantizar que cualquier conclusión o modelo construido a partir de la muestra pueda generalizarse adecuadamente al *dataset* completo.\n",
    "\n",
    "Primero, se calculan los porcentajes de cada categoría en la columna `'TIPO DE MENSAJE'` tanto en el *dataset* completo como en la muestra. Esto permite analizar y comparar cómo se distribuyen los diferentes tipos de mensajes en ambos conjuntos. Posteriormente, los porcentajes se visualizan en una gráfica de barras, donde cada barra representa la proporción de una categoría en uno u otro conjunto.\n",
    "\n",
    "En base a la gráfica, podemos observar que la distribución de los tipos de mensajes en la muestra es altamente representativa del *dataset* completo. Los porcentajes de las categorías `'COMENTARIO'`, `'NOTICIA'`, y `'TITULAR NOTICIA'` son prácticamente idénticos entre ambos conjuntos:\n",
    "- `'COMENTARIO'`: 58.17% en el *dataset* completo frente a 58.04% en la muestra.\n",
    "- `'NOTICIA'`: 27.76% en el *dataset* completo frente a 27.86% en la muestra.\n",
    "- `'TITULAR NOTICIA'`: 14.08% en el *dataset* completo frente a 14.09% en la muestra.\n",
    "\n",
    "Estas ligerísimas variaciones están dentro de lo esperable para un muestreo aleatorio y no afectan la representatividad general.\n",
    "\n",
    "Por otro lado, las categorías atípicas, como valores nulos (`NaN`) o términos inusuales (por ejemplo, `'en jávea, 59'` o `'stana news de hong kong'`), tienen una representación prácticamente nula en ambos conjuntos y no influyen en los resultados principales. Esto confirma que la muestra es adecuada y que las conclusiones derivadas del análisis serán generalizables al *dataset* completo."
   ]
  },
  {
   "cell_type": "markdown",
   "metadata": {
    "id": "NKGjFbSGmgFD"
   },
   "source": [
    "Te vendrá bien conocer la siguiente documentación:\n",
    "<ul>\n",
    "    <li>https://spacy.io/api/doc</li>\n",
    "    <li>https://spacy.io/api/token</li>\n",
    "    <li>https://spacy.io/api/morphology#morphanalysis</li>\n",
    "</ul>"
   ]
  },
  {
   "cell_type": "markdown",
   "metadata": {
    "id": "zpH4SqC5mgFD"
   },
   "source": [
    "### Playground\n",
    "\n",
    "Utiliza este espacio para hacer pruebas y ensayos con las variables generadas con el código previo. A modo de ejemplo, se ofrece código que realiza las siguientes tareas:\n",
    "\n",
    "\n",
    "- leer un número dado de líneas del Dataframe y generar dos listas con los valores (se pueden leer directamente del DataFrame, se muestra el ejemplo como una opción más)\n",
    "- procesar el texto de cada comentario\n",
    "\n",
    "\n",
    "Para procesarlo, hay utilizar el objeto <i>nlp</i> y así obtener objetos de la clase <i>Doc</i> (https://spacy.io/api/doc)\n",
    "\n",
    "Visita la documentación de dicha clase y experimenta probando las diferentes funciones y atributos"
   ]
  },
  {
   "cell_type": "code",
   "execution_count": null,
   "metadata": {
    "collapsed": true,
    "id": "q3QXAbuxmgFD",
    "jupyter": {
     "outputs_hidden": true
    }
   },
   "outputs": [],
   "source": [
    "# Puedes insertar aquí código de pruebas para experimentar con las diferentes funciones y atributos de 'doc'.\n",
    "#print(data[\"CONTENIDO A ANALIZAR\"][1])\n",
    "#print(data[\"INTENSIDAD\"][1])\n",
    "doc = []\n",
    "value = []\n",
    "\n",
    "#con el bucle, generamos sendas listas con los comentarios ya parseados y con el valor de intensidad\n",
    "for i in range(0, 10):\n",
    "\n",
    "    #en un primer paso se parsea el comentario. En el segundo paso se añade el objeto a la lista\n",
    "    tmp_doc = nlp(data[\"CONTENIDO A ANALIZAR\"][i])\n",
    "    doc.append(tmp_doc)\n",
    "\n",
    "    #en un primer paso extrae el valor. En el segundo paso se añade el valor a la lista\n",
    "    tmp_value = data[\"INTENSIDAD\"][i]\n",
    "    value.append(tmp_value)\n",
    "\n",
    "\n",
    "#ejemplo de cómo recorrer un comentario palabra por palabra\n",
    "for token in doc[1]:\n",
    "    print(token)"
   ]
  },
  {
   "cell_type": "markdown",
   "metadata": {
    "id": "RHwQgtpqnAbS"
   },
   "source": [
    "# Actividad"
   ]
  },
  {
   "cell_type": "markdown",
   "metadata": {
    "id": "N6Z8Th9SmgFD"
   },
   "source": [
    "<span style=\"font-size: 14pt; font-weight: bold; color: #0098cd;\">Pregunta 1.</span>\n",
    "<span style=\"font-size: 14pt; font-weight: bold; color: #0098cd;\">¿Cuántos registros contiene el corpus?</span>"
   ]
  },
  {
   "cell_type": "code",
   "execution_count": null,
   "metadata": {
    "colab": {
     "base_uri": "https://localhost:8080/"
    },
    "id": "Ebh5NcPRmgFD",
    "outputId": "6c64de63-da37-4f5d-fabc-6111ebd3390a"
   },
   "outputs": [
    {
     "name": "stdout",
     "output_type": "stream",
     "text": [
      "El corpus contiene un total de 20000 registros, de los cuales 19996 tienen contenido para analizar.\n"
     ]
    }
   ],
   "source": [
    "# Utilizamos '.shape[0]' para obtener el número de filas de nuestro dataset.\n",
    "registers = sample_data.shape[0]\n",
    "\n",
    "# Realizamos esta parte para contar el numero de registros que contiene datos.\n",
    "corpus = sample_data['CONTENIDO A ANALIZAR'].fillna(\"\").str.strip() != \"\"\n",
    "corpus = corpus.sum()\n",
    "\n",
    "print(f\"El corpus contiene un total de {registers} registros, de los cuales {corpus} tienen contenido para analizar.\")"
   ]
  },
  {
   "cell_type": "markdown",
   "metadata": {
    "id": "KitMzXG-DZDq"
   },
   "source": [
    "Para determinar cuántos registros contiene el corpus, primero obtenemos el número total de filas del *dataset* utilizando la propiedad `.shape[0]`. Esto nos da el total de registros en el dataset, independientemente de si contienen datos o están vacíos.\n",
    "\n",
    "A continuación, realizamos una operación adicional para contar únicamente los registros que contienen datos en la columna `CONTENIDO A ANALIZAR`. Primero, usamos el método `fillna(\"\")` para reemplazar los valores `NaN` por cadenas vacías. Esto asegura que no haya errores al realizar operaciones de texto en celdas sin datos. Después, aplicamos `str.strip()` a la columna, lo que elimina los espacios en blanco al inicio y al final de cada texto. Este paso es crucial para tratar casos en los que una celda parece vacía, pero en realidad contiene solo espacios.\n",
    "\n",
    "Posteriormente, aplicamos un filtro para identificar las celdas que no están vacías. Esto se realiza utilizando la condición `!= \"\"`, que devuelve `True` para las celdas con contenido válido y `False` para las vacías. El resultado es una serie de valores booleanos que representan si cada registro tiene datos en la columna analizada. Al sumar esta serie utilizando `.sum()`, contamos todos los valores `True`, ya que en pandas, `True` se interpreta como `1` y `False` como `0`. Así obtenemos el número total de registros con contenido válido.\n",
    "\n",
    "Finalmente, imprimimos los resultados: el número total de registros del *dataset* y cuántos de ellos tienen contenido en la columna `CONTENIDO A ANALIZAR`. Esto proporciona una visión clara tanto de la cantidad de datos disponibles como de la proporción de registros que contienen información útil para el análisis."
   ]
  },
  {
   "cell_type": "markdown",
   "metadata": {
    "id": "wMfhucJ1mgFE"
   },
   "source": [
    "<span style=\"font-size: 14pt; font-weight: bold; color: #0098cd;\">Pregunta 2.</span>\n",
    "<span style=\"font-size: 14pt; font-weight: bold; color: #0098cd;\">¿Cuántas palabras totales hay en los comentarios del corpus?</span>"
   ]
  },
  {
   "cell_type": "code",
   "execution_count": null,
   "metadata": {
    "colab": {
     "base_uri": "https://localhost:8080/"
    },
    "id": "xYoQayfvmgFE",
    "outputId": "dd6d20d1-2c0c-4eb9-9cb1-ad2b84061133"
   },
   "outputs": [
    {
     "name": "stdout",
     "output_type": "stream",
     "text": [
      "El corpus contiene un total de 553829 palabras en los comentarios.\n"
     ]
    }
   ],
   "source": [
    "# Función para contar palabras en un documento (excluyendo puntuación y espacios)\n",
    "def count_words(doc):\n",
    "\n",
    "  word_count = 0\n",
    "  for token in doc:\n",
    "    if not token.is_punct and not token.is_space:  # Comprueba si el token no es puntuación ni espacio\n",
    "      word_count += 1\n",
    "\n",
    "  return word_count\n",
    "\n",
    "# Filtramos los registros donde 'TIPO DE MENSAJE' es 'COMENTARIO'\n",
    "comment_data = sample_data[sample_data['TIPO DE MENSAJE'] == 'COMENTARIO'].copy()\n",
    "\n",
    "# Nos aseguramos de que los textos no contengan NaN y sean cadenas\n",
    "comment_data['texto_procesado'] = comment_data['CONTENIDO A ANALIZAR'].fillna(\"\").astype(str)\n",
    "\n",
    "# Aplicar spaCy a cada comentario para tokenizar y crear documentos\n",
    "comment_data['analisis_nlp'] = comment_data['texto_procesado'].apply(nlp)\n",
    "\n",
    "# Aplicamos la función count_words a cada documento en la columna 'analisis_nlp' para contar solo palabras válidas\n",
    "comment_data['word_count'] = comment_data['analisis_nlp'].apply(count_words)\n",
    "\n",
    "# Sumamos todas las palabras válidas para obtener el total de palabras en los comentarios del corpus\n",
    "total_words = comment_data['word_count'].sum()\n",
    "\n",
    "print(f\"El corpus contiene un total de {total_words} palabras en los comentarios.\")"
   ]
  },
  {
   "cell_type": "markdown",
   "metadata": {
    "id": "Qx17J7uWmgFE"
   },
   "source": [
    "###Explicación del Código\n",
    "\n",
    "La función `count_words` se utiliza para contar las palabras válidas dentro de un documento procesado por spaCy. Recibe como entrada un documento (`doc`) y, mediante un bucle, recorre cada uno de los tokens presentes en él. Para determinar si un token es una palabra válida, se realizan dos verificaciones: que el token no sea un signo de puntuación (a través de la propiedad `is_punct`) y que no sea un espacio (`is_space`). Si ambas condiciones se cumplen, se incrementa un contador llamado `word_count`. Al finalizar el bucle, la función devuelve el valor de este contador, que representa el número total de palabras válidas en el documento, excluyendo los signos de puntuación y los espacios.\n",
    "\n",
    "Antes de aplicar la función `count_words`, es necesario preparar los datos para asegurarnos de que todos los textos estén en un formato adecuado para ser procesados por spaCy. En primer lugar, reemplazamos cualquier valor `NaN` en la columna `CONTENIDO A ANALIZAR` del *dataset* con cadenas vacías, utilizando el método `fillna(\"\")`. Esto previene errores al realizar operaciones de texto. También convertimos explícitamente los valores a cadenas mediante el método `.astype(str)` para garantizar que todos los elementos sean compatibles con el procesamiento de texto.\n",
    "\n",
    "Una vez que los textos están preparados, se procesan con spaCy. Esto se logra aplicando el modelo de spaCy a cada elemento de la columna `texto_procesado` mediante el método `.apply(nlp)`. El resultado de este procesamiento es una columna nueva, llamada `analisis_nlp`, que contiene documentos spaCy completos, con toda la información lingüística extraída de los textos.\n",
    "\n",
    "Para contar las palabras en los documentos procesados, utilizamos nuevamente el método `.apply()`, esta vez con la función `count_words`. Esto genera una nueva columna en el *dataset*, denominada `word_count`, que almacena el número de palabras válidas para cada documento. Estas palabras se cuentan excluyendo puntuación y espacios, gracias a las condiciones implementadas en la función.\n",
    "\n",
    "Finalmente, para calcular el total de palabras en el corpus, sumamos todos los valores presentes en la columna `word_count` utilizando el método `.sum()`. El resultado de esta operación nos proporciona el total de palabras válidas en el corpus. Esta cantidad se imprime para su interpretación final, proporcionando una métrica clara y precisa del volumen de palabras analizado."
   ]
  },
  {
   "cell_type": "markdown",
   "metadata": {
    "id": "t-6aq_lcmgFE"
   },
   "source": [
    "<span style=\"font-size: 14pt; font-weight: bold; color: #0098cd;\">Pregunta 3.</span>\n",
    "<span style=\"font-size: 14pt; font-weight: bold; color: #0098cd;\">¿Cuál el número promedio de palabras en cada comentario?</span>"
   ]
  },
  {
   "cell_type": "code",
   "execution_count": null,
   "metadata": {
    "colab": {
     "base_uri": "https://localhost:8080/"
    },
    "id": "K5tuWlUVmgFE",
    "outputId": "c90ea9e0-1856-4170-83a0-52c2a9b4f6d5"
   },
   "outputs": [
    {
     "name": "stdout",
     "output_type": "stream",
     "text": [
      "El promedio de palabras por comentario es de 47.72 palabras\n"
     ]
    }
   ],
   "source": [
    "# Calculamos el promedio directamente con .mean()\n",
    "average_words = comment_data['word_count'].mean()\n",
    "\n",
    "# Mostramos los resultados\n",
    "print(f\"El promedio de palabras por comentario es de {average_words.round(2)} palabras\")"
   ]
  },
  {
   "cell_type": "markdown",
   "metadata": {
    "id": "c6KFY5yBmgFE"
   },
   "source": [
    "### Explicación del Código\n",
    "\n",
    "Primero, calculamos el promedio de palabras por comentario directamente utilizando el método `.mean()` sobre la columna `'word_count'` en `comment_data`. La columna `'word_count'` ya contiene el número de palabras válidas por registro, calculado previamente, por lo que el uso de `.mean()` nos proporciona el promedio de palabras de manera eficiente y simplificada, eliminando la necesidad de calcular manualmente el total de palabras y registros.\n",
    "\n",
    "El método `.mean()` realiza el cálculo de manera interna, dividiendo automáticamente la suma de los valores de la columna entre el número de registros no nulos. Esto simplifica el código y asegura que el cálculo sea más legible.\n",
    "\n",
    "Para garantizar que el resultado sea claro y presentable, utilizamos el método `.round(2)` para redondear el promedio a dos decimales. Este pequeño ajuste mejora la legibilidad del dato final.\n",
    "\n",
    "> **Nota Importante**: Si la columna `'word_count'` no contiene valores o si no hay registros en `comment_data`, el método `.mean()` retornará `NaN`. Esto no genera un error, pero podría requerir manejo adicional dependiendo del contexto. En casos extremos, sería recomendable realizar una verificación previa, como `if not comment_data.empty`, para asegurarse de que existen registros antes de realizar el cálculo."
   ]
  },
  {
   "cell_type": "markdown",
   "metadata": {
    "id": "Ls6NsuCBmgFF"
   },
   "source": [
    "<span style=\"font-size: 14pt; font-weight: bold; color: #0098cd;\">Pregunta 4.</span>\n",
    "<span style=\"font-size: 14pt; font-weight: bold; color: #0098cd;\">Considerando dos grupos de comentarios (odio y no odio) ¿Cuál el número promedio de palabras en los comentarios de cada grupo?</span>"
   ]
  },
  {
   "cell_type": "code",
   "execution_count": null,
   "metadata": {
    "colab": {
     "base_uri": "https://localhost:8080/"
    },
    "id": "r0LEjYDgmgFF",
    "outputId": "4bccd3c8-4632-422e-f2ed-4e59ec6cad17"
   },
   "outputs": [
    {
     "name": "stdout",
     "output_type": "stream",
     "text": [
      "El número promedio de palabras en los comentarios de ODIO es de 15.82 palabras.\n",
      "El número promedio de palabras en los comentarios de NO ODIO es de 48.76 palabras.\n"
     ]
    }
   ],
   "source": [
    "# Función para clasificar los comentarios (\"odio\" y \"no odio\")\n",
    "def comment_classifier(intensidad):\n",
    "    if pd.isna(intensidad):  # Verificamos si la intensidad es NaN\n",
    "        return 'no odio'  # Consideramos NaN como no odio\n",
    "    elif intensidad > 0:\n",
    "        return 'odio'\n",
    "    else:\n",
    "        return 'no odio'\n",
    "\n",
    "# Convertimos todos los valores de la columna 'INTENSIDAD' a numérico\n",
    "comment_data['INTENSIDAD'] = pd.to_numeric(comment_data['INTENSIDAD'], errors='coerce')\n",
    "\n",
    "# Clasificamos los tipos de comentarios\n",
    "comment_data['grupo'] = comment_data['INTENSIDAD'].apply(comment_classifier)\n",
    "\n",
    "# Usamos .mean() para calcular los promedios de palabras por grupo\n",
    "average_words_odio = comment_data[comment_data['grupo'] == 'odio']['word_count'].mean()\n",
    "average_words_no_odio = comment_data[comment_data['grupo'] == 'no odio']['word_count'].mean()\n",
    "\n",
    "# Mostramos los resultados\n",
    "print(f'El número promedio de palabras en los comentarios de ODIO es de {average_words_odio.round(2)} palabras.')\n",
    "print(f'El número promedio de palabras en los comentarios de NO ODIO es de {average_words_no_odio.round(2)} palabras.')"
   ]
  },
  {
   "cell_type": "markdown",
   "metadata": {
    "id": "FTjarcbSmgFF"
   },
   "source": [
    "### Explicación del Código\n",
    "\n",
    "Primero, se asegura que todos los valores de la columna `INTENSIDAD` sean numéricos. Esto se realiza utilizando `pd.to_numeric()`, que convierte los valores a formato numérico. Si algún valor no puede ser convertido (por ejemplo, texto o caracteres no numéricos), se reemplaza por `NaN` gracias al argumento `errors='coerce'`. Este paso es crucial para evitar errores y garantizar que todos los valores en la columna sean procesables para el análisis posterior.\n",
    "\n",
    "A continuación, se añade una nueva columna `grupo` al *dataset* `comment_data`, donde se clasifica cada comentario como \"odio\" o \"no odio\". Esta clasificación se realiza utilizando la función `comment_classifier`, que sigue una lógica clara: si el valor en `INTENSIDAD` es `NaN` o igual a 0, el comentario se clasifica como \"no odio\". Por el contrario, si el valor es mayor que 0, se clasifica como \"odio\". Este proceso asegura una segmentación precisa basada en la intensidad del contenido.\n",
    "\n",
    "Posteriormente, se calcula el promedio de palabras por comentario en cada grupo. Esto se logra utilizando el método `.mean()`. Primero, se filtran los comentarios correspondientes a cada grupo (`'grupo' == 'odio'` o `'grupo' == 'no odio'`), y se calcula directamente el promedio de la columna `word_count`, que ya contiene el conteo de palabras por comentario. Esto simplifica el cálculo y elimina la necesidad de realizar sumas y divisiones manuales.\n",
    "\n",
    "Finalmente, se imprimen los resultados redondeados a dos decimales, mostrando el promedio de palabras por comentario en los grupos \"odio\" y \"no odio\". Esto permite interpretar fácilmente la información y comparar los dos grupos.\n",
    "\n",
    "> **Nota importante**: El uso del método `.mean()` evita problemas de división por cero, ya que si un grupo no tiene comentarios, el resultado será `NaN` en lugar de provocar un error. Sin embargo, si se desea manejar estos casos de manera explícita, se puede verificar si el grupo contiene comentarios antes de calcular el promedio."
   ]
  },
  {
   "cell_type": "markdown",
   "metadata": {
    "id": "cTAVuKiJmgFF"
   },
   "source": [
    "<span style=\"font-size: 14pt; font-weight: bold; color: #0098cd;\">Pregunta 5.</span>\n",
    "<span style=\"font-size: 14pt; font-weight: bold; color: #0098cd;\">Considerando dos grupos de comentarios (odio y no odio) ¿Cuál es el número promedio de oraciones en los comentarios de cada grupo?</span>"
   ]
  },
  {
   "cell_type": "code",
   "execution_count": null,
   "metadata": {
    "colab": {
     "base_uri": "https://localhost:8080/"
    },
    "id": "9_6kO33omgFF",
    "outputId": "9620119f-d199-4d16-a446-2af43657931b"
   },
   "outputs": [
    {
     "name": "stdout",
     "output_type": "stream",
     "text": [
      "El número promedio de oraciones en los comentarios de ODIO es de 1.53 oraciones.\n",
      "El número promedio de oraciones en los comentarios de NO ODIO es de 2.25 oraciones.\n"
     ]
    }
   ],
   "source": [
    "# Función para contar el número de oraciones en un comentario\n",
    "def count_sentences(doc):\n",
    "  sentence_count = 0  # Inicializamos el contador de oraciones\n",
    "  for sentence in doc.sents:  # Iteramos sobre cada oración en el documento\n",
    "    sentence_count += 1  # Incrementamos el contador por cada oración\n",
    "  return sentence_count  # Devolvemos el número total de oraciones\n",
    "\n",
    "# Contamos las oraciones en cada comentario\n",
    "comment_data['sentence_count'] = comment_data['analisis_nlp'].apply(count_sentences)\n",
    "\n",
    "# Calculamos el promedio de oraciones por comentario para cada grupo\n",
    "average_sentences_odio = comment_data[comment_data['grupo'] == 'odio']['sentence_count'].mean()\n",
    "average_sentences_no_odio = comment_data[comment_data['grupo'] == 'no odio']['sentence_count'].mean()\n",
    "\n",
    "# Mostramos los resultados\n",
    "print(f'El número promedio de oraciones en los comentarios de ODIO es de {average_sentences_odio.round(2)} oraciones.')\n",
    "print(f'El número promedio de oraciones en los comentarios de NO ODIO es de {average_sentences_no_odio.round(2)} oraciones.')"
   ]
  },
  {
   "cell_type": "markdown",
   "metadata": {
    "id": "G3vNwJPxmgFF"
   },
   "source": [
    "### Explicación del Código\n",
    "\n",
    "Primero, se añade una nueva columna `sentence_count` al *dataset* `comment_data`, la cual almacena el número de oraciones en cada comentario. Este cálculo se realiza utilizando la función `count_sentences`, que recibe un documento procesado por spaCy (`doc`) como entrada. La función utiliza la propiedad `.sents` de spaCy para iterar sobre todas las oraciones del documento. Por cada oración identificada, incrementa un contador, que posteriormente es retornado como el total de oraciones en el documento.\n",
    "\n",
    "A continuación, se calcula el promedio de oraciones por comentario para los grupos \"odio\" y \"no odio\". Para ello, se filtra el *dataset* `comment_data` por cada grupo específico utilizando la columna `'grupo'`. Una vez filtrado, se aplica el método `.mean()` sobre la columna `sentence_count`, lo que permite calcular directamente el promedio de oraciones por comentario en cada grupo.\n",
    "\n",
    "Por último, los resultados se imprimen, mostrando el número promedio de oraciones por comentario en los grupos \"odio\" y \"no odio\". Los promedios se redondean a dos decimales para facilitar su lectura e interpretación.\n",
    "\n",
    "> **Nota Importante**: Si un grupo no contiene comentarios, el método `.mean()` retornará `NaN` en lugar de generar un error. Esto es deseable porque evita interrupciones en la ejecución del código. Sin embargo, si se prefiere manejar explícitamente estos casos, se puede verificar previamente si existen comentarios en el grupo antes de calcular el promedio, garantizando así la el correcto análisis en otro tipo de escenarios."
   ]
  },
  {
   "cell_type": "markdown",
   "metadata": {
    "id": "dh9kSizHmgFG"
   },
   "source": [
    "<span style=\"font-size: 14pt; font-weight: bold; color: #0098cd;\">Pregunta 6.</span>\n",
    "<span style=\"font-size: 14pt; font-weight: bold; color: #0098cd;\">Considerando dos grupos de comentarios (odio y no odio) ¿Cuál es el porcentaje de comentarios que contienen entidades NER en cada grupo?</span>"
   ]
  },
  {
   "cell_type": "code",
   "execution_count": null,
   "metadata": {
    "colab": {
     "base_uri": "https://localhost:8080/"
    },
    "id": "xJcgM_d0mgFG",
    "outputId": "0debb99a-4951-41f8-af50-9b77ec9682f5"
   },
   "outputs": [
    {
     "name": "stdout",
     "output_type": "stream",
     "text": [
      "Porcentaje de comentarios con entidades en los comentarios de ODIO es del: 38.69%\n",
      "Porcentaje de comentarios con entidades en los comentarios de NO ODIO es de: 45.51%\n"
     ]
    }
   ],
   "source": [
    "# Función para verificar si un comentario tiene entidades NER\n",
    "def has_entities(doc):\n",
    "  if len(doc.ents) > 0: # Si hay al menos una entidad, retorna True\n",
    "    return True\n",
    "\n",
    "# Creamos una nueva columna que indica si el comentario tiene entidades NER\n",
    "comment_data['has_entities'] = comment_data['analisis_nlp'].apply(has_entities)\n",
    "\n",
    "# Calculamos el total de comentarios que contienen entidades por grupo\n",
    "comments_with_entities_odio = comment_data[(comment_data['grupo'] == 'odio') & (comment_data['has_entities'])].shape[0]\n",
    "comments_with_entities_no_odio = comment_data[(comment_data['grupo'] == 'no odio') & (comment_data['has_entities'])].shape[0]\n",
    "\n",
    "# Calculamos el porcentaje de comentarios con entidades para cada grupo\n",
    "percentage_entities_odio = (comments_with_entities_odio / num_comment_odio) * 100 if num_comment_odio > 0 else 0\n",
    "percentage_entities_no_odio = (comments_with_entities_no_odio /  num_comment_no_odio) * 100 if num_comment_no_odio > 0 else 0\n",
    "\n",
    "# Mostramos los resultados\n",
    "print(f\"Porcentaje de comentarios con entidades en los comentarios de ODIO es del: {percentage_entities_odio.round(2)}%\")\n",
    "print(f\"Porcentaje de comentarios con entidades en los comentarios de NO ODIO es de: {percentage_entities_no_odio.round(2)}%\")"
   ]
  },
  {
   "cell_type": "markdown",
   "metadata": {
    "id": "rFuVzOWhmgFG"
   },
   "source": [
    "### Explicación del Código\n",
    "\n",
    "Primero, se crea una nueva columna llamada `has_entities` en el *dataset* `comment_data`, que indica si cada comentario contiene entidades reconocidas (NER). Para esto, utilizamos la función `has_entities`, que recibe un documento procesado por spaCy (`doc`). Esta función verifica si la propiedad `.ents` del documento, que contiene las entidades reconocidas, tiene una longitud mayor que 0. Si es así, significa que el comentario tiene al menos una entidad, y la función devuelve `True`; de lo contrario, devuelve `False`.\n",
    "\n",
    "Luego, se cuenta el número total de comentarios que contienen entidades en cada grupo (\"odio\" y \"no odio\"). Esto se logra aplicando dos filtros simultáneamente al *dataset*: uno para el grupo correspondiente (`'grupo' == 'odio'` o `'grupo' == 'no odio'`) y otro para seleccionar únicamente los comentarios donde `has_entities` es `True`. El método `.shape[0]` nos da el número total de comentarios que cumplen ambas condiciones.\n",
    "\n",
    "El porcentaje de comentarios con entidades para cada grupo se calcula dividiendo el número de comentarios con entidades entre el número total de comentarios del grupo. El resultado de esta división se multiplica por 100 para obtener el porcentaje. Para evitar errores en caso de que un grupo no tenga comentarios, se incluye una verificación condicional: si el número total de comentarios del grupo (`num_comment_odio` o `num_comment_no_odio`) es mayor a 0, se realiza el cálculo; de lo contrario, el porcentaje se establece en 0.\n",
    "\n",
    "Finalmente, se imprimen los resultados mostrando el porcentaje de comentarios con entidades para cada grupo (\"odio\" y \"no odio\"). Cada porcentaje es redondeado a dos decimales para facilitar su lectura e interpretación."
   ]
  },
  {
   "cell_type": "markdown",
   "metadata": {
    "id": "z7BeNfW1mgFG"
   },
   "source": [
    "<span style=\"font-size: 14pt; font-weight: bold; color: #0098cd;\">Pregunta 7.</span>\n",
    "<span style=\"font-size: 14pt; font-weight: bold; color: #0098cd;\">Considerando dos grupos de comentarios (odio y no odio) ¿Cuál es el porcentaje de comentarios que contienen entidades NER de tipo PERSON en cada grupo?</span>"
   ]
  },
  {
   "cell_type": "code",
   "execution_count": null,
   "metadata": {
    "colab": {
     "base_uri": "https://localhost:8080/"
    },
    "id": "XiDvSj5MmgFG",
    "outputId": "bdfade6f-5c76-43f5-d89b-8accaf0dbd74"
   },
   "outputs": [
    {
     "name": "stdout",
     "output_type": "stream",
     "text": [
      "Porcentaje de comentarios con entidades PERSON en los comentarios de ODIO es del: 20.44%\n",
      "Porcentaje de comentarios con entidades PERSON en los comentarios de NO ODIO es de: 20.45%\n"
     ]
    }
   ],
   "source": [
    "# Función para verificar si un comentario tiene entidades de tipo PERSON\n",
    "def has_person_entity(doc):\n",
    "  for ent in doc.ents:  # Recorremos todas las entidades en el documento\n",
    "    if ent.label_ == 'PER':  # Verificamos si la etiqueta de la entidad es 'PERSON'\n",
    "      return True\n",
    "  return False\n",
    "\n",
    "# Creamos una nueva columna para indicar si el comentario tiene entidades de tipo PERSON\n",
    "comment_data['has_person'] = comment_data['analisis_nlp'].apply(has_person_entity)\n",
    "\n",
    "# Calculamos el total de comentarios que contienen entidades \"PERSON\" por grupo\n",
    "comments_with_person_odio = comment_data[(comment_data['grupo'] == 'odio') & (comment_data['has_person'])].shape[0]\n",
    "comments_with_person_no_odio = comment_data[(comment_data['grupo'] == 'no odio') & (comment_data['has_person'])].shape[0]\n",
    "\n",
    "# Calculamos el porcentaje de comentarios con entidades \"PERSON\" para cada grupo\n",
    "percentage_person_odio = (comments_with_person_odio / num_comment_odio) * 100 if num_comment_odio > 0 else 0\n",
    "percentage_person_no_odio = (comments_with_person_no_odio /  num_comment_no_odio) * 100 if num_comment_no_odio > 0 else 0\n",
    "\n",
    "# Mostramos los resultados\n",
    "print(f\"Porcentaje de comentarios con entidades PERSON en los comentarios de ODIO es del: {percentage_person_odio.round(2)}%\")\n",
    "print(f\"Porcentaje de comentarios con entidades PERSON en los comentarios de NO ODIO es de: {percentage_person_no_odio.round(2)}%\")"
   ]
  },
  {
   "cell_type": "markdown",
   "metadata": {
    "id": "zAzvwkwAmgFH"
   },
   "source": [
    "### Explicación del Código\n",
    "\n",
    "Inicialmente, se implementa una función denominada `has_person_entity` que determina si un comentario contiene entidades de tipo \"PER\". Esta función recibe un documento procesado por spaCy y recorre todas las entidades identificadas en él. Utiliza el atributo `.ents` para acceder a las entidades y verifica cada una de ellas con `.label_`, comparando si la etiqueta es igual a 'PER'. Si encuentra al menos una entidad con esta etiqueta, la función retorna `True`, indicando la presencia de la entidad de tipo \"PER\". Si no encuentra ninguna, retorna `False`.\n",
    "\n",
    "Posteriormente, se crea una nueva columna `has_person` en el *dataset* `comment_data`. Esta columna es el resultado de aplicar la función `has_person_entity` a cada documento en la columna `analisis_nlp` del *dataset*. Cada fila en `has_person` contendrá `True` si el comentario correspondiente contiene al menos una entidad de tipo \"PER\", y `False` en caso contrario.\n",
    "\n",
    "Una vez establecida la columna `has_person`, el análisis procede a contar cuántos comentarios en cada grupo de 'odio' y 'no odio' contienen entidades de tipo \"PER\". Esto se logra filtrando el *dataset* `comment_data` primero por el grupo (usando la columna `grupo`) y luego verificando que `has_person` sea `True`. El método `.shape[0]` se utiliza para contar el número de filas que cumplen ambos criterios en cada grupo.\n",
    "\n",
    "Para calcular el porcentaje de comentarios que contienen entidades \"PER\" en cada grupo, se divide el número de comentarios con dichas entidades por el número total de comentarios en ese grupo y se multiplica por 100 para obtener el resultado en forma porcentual. Se incluye una condición para asegurarse de que el denominador en estas operaciones sea mayor que cero, evitando así una posible división por cero. Si el número total de comentarios en algún grupo es cero, el porcentaje correspondiente se define automáticamente como 0.\n",
    "\n",
    "Los resultados se presentan mediante un mensaje impreso, que indica el porcentaje de comentarios con entidades \"PER\" en los grupos de 'odio' y 'no odio'. Cada porcentaje se redondea a dos decimales para facilitar su interpretación."
   ]
  },
  {
   "cell_type": "markdown",
   "metadata": {
    "id": "tlQUi34gmgFH"
   },
   "source": [
    "<span style=\"font-size: 14pt; font-weight: bold; color: #0098cd;\">Pregunta 8.</span>\n",
    "<span style=\"font-size: 14pt; font-weight: bold; color: #0098cd;\">Considerando dos grupos de comentarios (odio y no odio) ¿Cuál es el porcentaje de palabras en cada combinación posible de género y número (p.ej. masculino singular) en cada grupo?</span>"
   ]
  },
  {
   "cell_type": "code",
   "execution_count": null,
   "metadata": {
    "colab": {
     "base_uri": "https://localhost:8080/"
    },
    "id": "A_SkhnWnmgFH",
    "outputId": "51979d88-f387-4722-c047-3ac7e5057a0e"
   },
   "outputs": [
    {
     "name": "stdout",
     "output_type": "stream",
     "text": [
      "Porcentajes de combinaciones de género y número en el grupo 'odio':\n",
      "None ['Sing']: 12.29%\n",
      "['Masc'] ['Sing']: 13.50%\n",
      "None None: 47.43%\n",
      "['Fem'] ['Sing']: 12.02%\n",
      "['Masc'] ['Plur']: 5.95%\n",
      "None ['Plur']: 6.09%\n",
      "['Fem'] ['Plur']: 2.63%\n",
      "['Masc'] None: 0.04%\n",
      "['Fem'] None: 0.04%\n",
      "\n",
      "Porcentajes de combinaciones de género y número en el grupo 'no odio':\n",
      "['Masc'] ['Plur']: 5.79%\n",
      "None ['Plur']: 4.68%\n",
      "None None: 48.90%\n",
      "None ['Sing']: 10.31%\n",
      "['Masc'] ['Sing']: 14.62%\n",
      "['Fem'] ['Sing']: 11.60%\n",
      "['Fem'] ['Plur']: 3.92%\n",
      "['Masc'] None: 0.09%\n",
      "['Fem'] None: 0.08%\n",
      "None ['Plur', 'Sing']: 0.00%\n"
     ]
    }
   ],
   "source": [
    "# Función para contar combinaciones de género y número en un grupo\n",
    "def count_combinations(documents, groups):\n",
    "  # Inicializamos los diccionarios de conteo\n",
    "  combination_counts_odio = {}\n",
    "  combination_counts_no_odio = {}\n",
    "\n",
    "  # Iteramos sobre los documentos y los grupos\n",
    "  for doc, group in zip(documents, groups):\n",
    "    if group == 'odio':\n",
    "      current_dict = combination_counts_odio\n",
    "    else:\n",
    "      current_dict = combination_counts_no_odio\n",
    "\n",
    "    for token in doc:\n",
    "      gender = token.morph.get(\"Gender\") or \"None\"\n",
    "      number = token.morph.get(\"Number\") or \"None\"\n",
    "      combination = f\"{gender} {number}\"\n",
    "\n",
    "      # Incrementamos el conteo en el diccionario correspondiente\n",
    "      current_dict[combination] = current_dict.get(combination, 0) + 1\n",
    "\n",
    "  return combination_counts_odio, combination_counts_no_odio\n",
    "\n",
    "# Función para calcular porcentajes\n",
    "def calculate_percentages(combination_counts):\n",
    "  total = sum(combination_counts.values())  # Total de palabras en el grupo\n",
    "  percentages = {}\n",
    "  for combination, count in combination_counts.items():\n",
    "    percentages[combination] = (count / total * 100)\n",
    "  return percentages\n",
    "\n",
    "# Función para imprimir resultados\n",
    "def print_percentages(title, percentages):\n",
    "  print(title)\n",
    "  for combination, percentage in percentages.items():\n",
    "    print(f\"{combination}: {percentage:.2f}%\")\n",
    "\n",
    "# Contamos las combinaciones de género y número por cada grupo\n",
    "combination_counts_odio, combination_counts_no_odio = count_combinations(comment_data['analisis_nlp'], comment_data['grupo'])\n",
    "\n",
    "# Calculamos los porcentajes porcentajes de cada combinación por cada grupo\n",
    "percentage_odio = calculate_percentages(combination_counts_odio)\n",
    "percentage_no_odio = calculate_percentages(combination_counts_no_odio)\n",
    "\n",
    "# Mostramos los resultados\n",
    "print_percentages(\"Porcentajes de combinaciones de género y número en el grupo 'odio':\", percentage_odio)\n",
    "print_percentages(\"\\nPorcentajes de combinaciones de género y número en el grupo 'no odio':\", percentage_no_odio)"
   ]
  },
  {
   "cell_type": "markdown",
   "metadata": {
    "id": "O-4sMSzqmgFH"
   },
   "source": [
    "### Explicación del Código\n",
    "\n",
    "El código aborda la tarea de calcular el porcentaje de palabras en cada combinación posible de género y número en dos grupos de comentarios, denominados 'odio' y 'no odio'. Para realizar esta tarea, el código se estructura en tres partes principales: funciones para contar combinaciones, calcular porcentajes y mostrar resultados, y el flujo principal que utiliza estas funciones.\n",
    "\n",
    "#### Conteo de Combinaciones de Género y Número\n",
    "\n",
    "La función `count_combinations` se encarga de identificar y contar las combinaciones de género y número en los documentos procesados por spaCy. Esta función recibe dos argumentos: `documents`, que son los documentos procesados, y `groups`, que indica a qué grupo pertenece cada documento ('odio' o 'no odio').\n",
    "\n",
    "Dentro de esta función, se inicializan dos diccionarios para almacenar las cuentas de las combinaciones encontradas en cada grupo. A medida que se iteran los documentos junto con sus respectivos grupos, se selecciona el diccionario correspondiente al grupo del documento actual. Para cada token en el documento, se extrae su género y número utilizando `token.morph.get()`, y si alguno de estos atributos no está presente, se asigna 'None'.\n",
    "\n",
    "Se forma una combinación con los valores obtenidos de género y número, y se incrementa el conteo de esta combinación en el diccionario correspondiente. Al finalizar, la función retorna los dos diccionarios de conteo para cada grupo.\n",
    "\n",
    "#### Cálculo de Porcentajes\n",
    "\n",
    "La función `calculate_percentages` toma un diccionario de combinaciones de género y número y calcula el porcentaje de cada combinación respecto al total de palabras en ese grupo. Se calcula el total sumando todos los valores del diccionario de conteo. Luego, para cada combinación en el diccionario, se divide su conteo entre el total y se multiplica por 100 para obtener el porcentaje. Los resultados se almacenan en un nuevo diccionario de porcentajes.\n",
    "\n",
    "#### Impresión de Resultados\n",
    "\n",
    "`print_percentages` es una función diseñada para mostrar de manera clara los porcentajes calculados. Recibe un título para identificar el grupo y el diccionario de porcentajes a mostrar. Imprime el título seguido por cada combinación y su porcentaje correspondiente, formateado a dos decimales."
   ]
  },
  {
   "cell_type": "markdown",
   "metadata": {
    "id": "MqW7PQxNmgFH"
   },
   "source": [
    "<span style=\"font-size: 14pt; font-weight: bold; color: #0098cd;\">Pregunta 9.</span>\n",
    "<span style=\"font-size: 14pt; font-weight: bold; color: #0098cd;\">Considerando dos grupos de comentarios (odio y no odio), indica cuántas entidades de cada tipo posible se reconocen en cada uno de los grupos</span>"
   ]
  },
  {
   "cell_type": "code",
   "execution_count": null,
   "metadata": {
    "colab": {
     "base_uri": "https://localhost:8080/"
    },
    "id": "v7LxxfbfmgFH",
    "outputId": "4be20877-a010-4f60-bd18-2d6778dde862"
   },
   "outputs": [
    {
     "name": "stdout",
     "output_type": "stream",
     "text": [
      "Entidades reconocidas en el grupo 'ODIO':\n",
      "MISC: 37\n",
      "PER: 88\n",
      "LOC: 39\n",
      "ORG: 28\n",
      "\n",
      "Entidades reconocidas en el grupo 'NO ODIO':\n",
      "PER: 5250\n",
      "ORG: 1843\n",
      "LOC: 6400\n",
      "MISC: 2092\n"
     ]
    }
   ],
   "source": [
    "# Función para contar las entidades por tipo en un grupo de comentarios\n",
    "def contar_entidades_por_grupo(dataset, grupo):\n",
    "    # Filtramos los comentarios del grupo especificado\n",
    "    group_data = dataset[dataset['grupo'] == grupo]\n",
    "\n",
    "    # Crear un diccionario para almacenar los conteos de entidades\n",
    "    entity_counts = {}\n",
    "\n",
    "    # Iterar sobre cada comentario en el grupo\n",
    "    for doc in group_data['analisis_nlp']:\n",
    "        for ent in doc.ents:  # Iterar sobre las entidades del documento\n",
    "            if ent.label_ not in entity_counts:\n",
    "                entity_counts[ent.label_] = 1  # Inicializa el conteo si no existe\n",
    "            else:\n",
    "                entity_counts[ent.label_] += 1  # Incrementa el conteo si ya existe\n",
    "\n",
    "    return entity_counts\n",
    "\n",
    "# Contar las entidades en cada grupo\n",
    "entidades_odio = contar_entidades_por_grupo(comment_data, 'odio')\n",
    "entidades_no_odio = contar_entidades_por_grupo(comment_data, 'no odio')\n",
    "\n",
    "# Mostramos los resultados\n",
    "print(\"Entidades reconocidas en el grupo 'ODIO':\")\n",
    "# Iteramos sobre cada clave y valor en el diccionario 'entidades_odio'\n",
    "for entity_type in entidades_odio:\n",
    "  count = entidades_odio[entity_type]  # Obtener el conteo correspondiente a la clave actual\n",
    "  print(f\"{entity_type}: {count}\")\n",
    "\n",
    "# Otra forma de iterar, pero directamente desempaquetando las tuplas en dos variables (entity_type y count).\n",
    "print(\"\\nEntidades reconocidas en el grupo 'NO ODIO':\")\n",
    "for entity_type, count in entidades_no_odio.items():\n",
    "  print(f\"{entity_type}: {count}\")"
   ]
  },
  {
   "cell_type": "markdown",
   "metadata": {
    "id": "U6I0odntmgFI"
   },
   "source": [
    "### Explicación del Código\n",
    "\n",
    "Inicialmente, establecemos dos diccionarios que servirán para almacenar las entidades contabilizadas de cada grupo. La función clave en este proceso es `contar_entidades_por_grupo`, que se encarga de procesar los comentarios según el grupo al que pertenecen. Esta función recibe el conjunto de datos completo (`dataset`) y una especificación del grupo de interés (`grupo`). Dentro de la función, se realiza un filtrado preliminar para seleccionar solo los comentarios del grupo indicado. Posteriormente, se procede a recorrer cada comentario para identificar y contar las diferentes entidades presentes, utilizando la estructura de spaCy para extraer y clasificar estas entidades. Cada tipo de entidad detectada se registra en el diccionario correspondiente, incrementando su conteo cada vez que se encuentra una instancia en los textos analizados. Al finalizar, la función retorna el diccionario que ahora contiene una compilación completa de las entidades y sus frecuencias para el grupo específico.\n",
    "\n",
    "Después de obtener los conteos de entidades para cada grupo, procedemos a mostrar los resultados. El primer bloque de impresión recorre el diccionario de entidades del grupo 'odio', extrayendo y mostrando cada tipo de entidad junto con su frecuencia. Aquí, utilizamos una variable `count` para almacenar temporalmente el número de ocurrencias de cada entidad antes de imprimir tanto el tipo de entidad como su conteo asociado.\n",
    "\n",
    "En el segundo bloque de impresión, abordamos el diccionario del grupo 'no odio' de manera similar, pero optimizando el proceso al desempaquetar directamente cada par clave-valor del diccionario en las variables `entity_type` y `count`. Este método simplifica la impresión, permitiendo presentar de manera directa y eficiente cada tipo de entidad y su número de apariciones en los comentarios."
   ]
  },
  {
   "cell_type": "markdown",
   "metadata": {
    "id": "RfAVhdsymgFI"
   },
   "source": [
    "<span style=\"font-size: 14pt; font-weight: bold; color: #0098cd;\">Pregunta 10.</span>\n",
    "<span style=\"font-size: 14pt; font-weight: bold; color: #0098cd;\">Considerando dos grupos de comentarios (odio y no odio), extrae y muestra los 100 lemas más repetidos en los comentarios de cada grupo</span>"
   ]
  },
  {
   "cell_type": "code",
   "execution_count": null,
   "metadata": {
    "colab": {
     "base_uri": "https://localhost:8080/"
    },
    "id": "oY5j7I5bmgFI",
    "outputId": "c514c25f-50b3-4fb5-f677-825772a12fb7"
   },
   "outputs": [
    {
     "name": "stdout",
     "output_type": "stream",
     "text": [
      "Top 100 lemas más repetidos en el grupo 'odio':\n",
      "mierda: 27\n",
      "gobierno: 17\n",
      "mentiroso: 15\n",
      "puta: 15\n",
      "basura: 15\n",
      "españa: 15\n",
      "panfleto: 15\n",
      "asco: 15\n",
      "español: 13\n",
      "gente: 12\n",
      "gentuza: 12\n",
      "asesino: 11\n",
      "pasar: 11\n",
      "inútil: 10\n",
      "tonto: 10\n",
      "llamar: 10\n",
      "tener: 10\n",
      "vergüenza: 10\n",
      "noticia: 9\n",
      "país: 9\n",
      "hdp: 9\n",
      "terrorismo: 9\n",
      "informativo: 9\n",
      "miserable: 9\n",
      "psoe: 9\n",
      "año: 9\n",
      "tipo: 9\n",
      "madre: 8\n",
      "mundo: 8\n",
      "seguir: 8\n",
      "sinvergüenza: 8\n",
      "titular: 7\n",
      "meter: 7\n",
      "culo: 7\n",
      "payaso: 7\n",
      "ir: 7\n",
      "sánchez: 7\n",
      "panda: 7\n",
      "esperar: 7\n",
      "trump: 6\n",
      "hijo: 6\n",
      "decir: 6\n",
      "calle: 6\n",
      "cárcel: 6\n",
      "corrupto: 6\n",
      "venir: 6\n",
      "dejar: 6\n",
      "llegar: 5\n",
      "dinero: 5\n",
      "gilipollez: 5\n",
      "facha: 5\n",
      "rata: 5\n",
      "vivir: 5\n",
      "gilipol él: 5\n",
      "idiota: 5\n",
      "jeta: 5\n",
      "único: 5\n",
      "cobarde: 5\n",
      "menudo: 5\n",
      "estupidez: 5\n",
      "hipócrita: 5\n",
      "chino: 5\n",
      "messi: 5\n",
      "hdlgp: 5\n",
      "valer: 5\n",
      "puto: 5\n",
      "persona: 5\n",
      "izquierda: 5\n",
      "creer: 5\n",
      "democracia: 5\n",
      "medida: 4\n",
      "asesinar: 4\n",
      "importar: 4\n",
      "madrid: 4\n",
      "morir: 4\n",
      "hambre: 4\n",
      "caradura: 4\n",
      "mentira: 4\n",
      "vida: 4\n",
      "deber: 4\n",
      "salir: 4\n",
      "alguien: 4\n",
      "humano: 4\n",
      "estar: 4\n",
      "delincuente: 4\n",
      "sinverguenza: 4\n",
      "joder: 4\n",
      "inutil: 4\n",
      "portada: 4\n",
      "cojón: 4\n",
      "maldito: 4\n",
      "quedar: 4\n",
      "derecho: 4\n",
      "traidor: 4\n",
      "soltar: 4\n",
      "tío: 4\n",
      "sinvergüenzas: 4\n",
      "hundir: 4\n",
      "haber: 4\n",
      "votar: 4\n",
      "\n",
      "Top 100 lemas más repetidos en el grupo 'no odio':\n",
      "año: 1197\n",
      "gobierno: 977\n",
      "españa: 785\n",
      "persona: 766\n",
      "caso: 727\n",
      "ver: 643\n",
      "país: 636\n",
      "pasar: 562\n",
      "gente: 537\n",
      "madrid: 535\n",
      "vacuna: 533\n",
      "haber: 502\n",
      "seguir: 477\n",
      "dejar: 470\n",
      "público: 459\n",
      "querer: 454\n",
      "llegar: 454\n",
      "poner: 453\n",
      "millón: 445\n",
      "español: 435\n",
      "tener: 435\n",
      "pandemia: 431\n",
      "poder: 427\n",
      "hora: 421\n",
      "centro: 417\n",
      "salir: 414\n",
      "político: 413\n",
      "decir: 413\n",
      "comunidad: 406\n",
      "tiempo: 397\n",
      "medida: 396\n",
      "mes: 395\n",
      "cosa: 389\n",
      "quedar: 375\n",
      "esperar: 372\n",
      "mundo: 350\n",
      "situación: 341\n",
      "partido: 341\n",
      "social: 338\n",
      "vida: 337\n",
      "momento: 328\n",
      "pedir: 326\n",
      "ir: 322\n",
      "casa: 322\n",
      "deber: 322\n",
      "semana: 321\n",
      "servicio: 317\n",
      "pp: 317\n",
      "forma: 315\n",
      "euros: 314\n",
      "estar: 310\n",
      "pagar: 309\n",
      "sanitario: 308\n",
      "llevar: 300\n",
      "venir: 290\n",
      "zona: 288\n",
      "hacer: 287\n",
      "empresa: 286\n",
      "pensar: 285\n",
      "volver: 284\n",
      "hospital: 279\n",
      "trump: 278\n",
      "presidente: 275\n",
      "dar: 272\n",
      "ciudad: 272\n",
      "vivir: 271\n",
      "trabajo: 268\n",
      "ciudadano: 268\n",
      "recibir: 268\n",
      "problema: 267\n",
      "creer: 263\n",
      "salud: 263\n",
      "positivo: 261\n",
      "dosis: 260\n",
      "dato: 260\n",
      "virus: 254\n",
      "trabajar: 253\n",
      "grupo: 252\n",
      "tomar: 247\n",
      "calle: 247\n",
      "acabar: 246\n",
      "explicar: 241\n",
      "europa: 240\n",
      "recordar: 237\n",
      "entender: 236\n",
      "único: 235\n",
      "medio: 234\n",
      "nivel: 232\n",
      "falta: 232\n",
      "mujer: 231\n",
      "número: 229\n",
      "ayuda: 227\n",
      "personal: 227\n",
      "dinero: 225\n",
      "hablar: 224\n",
      "ley: 223\n",
      "permitir: 220\n",
      "lugar: 219\n",
      "vacunación: 219\n",
      "cataluña: 218\n"
     ]
    }
   ],
   "source": [
    "# Función para contar los lemas en un grupo de comentarios\n",
    "def contar_lemas_por_grupo(dataframe, grupo):\n",
    "    # Filtramos los comentarios del grupo especificado\n",
    "    group_data = dataframe[dataframe['grupo'] == grupo]\n",
    "\n",
    "    # Creamos un diccionario para contar lemas\n",
    "    lemma_counts = {}\n",
    "\n",
    "    # Iteramos sobre cada documento en el grupo\n",
    "    for doc in group_data['analisis_nlp']:\n",
    "        for token in doc:  # Iteramos sobre los tokens en el documento\n",
    "            # Ignoramos stopwords, signos de puntuación, espacios, lemas vacíos y caracteres sueltos\n",
    "            if (not token.is_stop and not token.is_punct and\n",
    "                len(token.lemma_.strip()) > 1):  # Ignorar lemas vacíos o con un solo carácter\n",
    "                lema = token.lemma_.lower()  # Convertimos el lema a minúsculas\n",
    "                if lema not in lemma_counts:\n",
    "                    lemma_counts[lema] = 1  # Inicializamos el conteo si no existe\n",
    "                else:\n",
    "                    lemma_counts[lema] += 1  # Incrementamos el conteo si ya existe\n",
    "\n",
    "    return lemma_counts\n",
    "\n",
    "# Obtenemos los lemas más frecuentes en cada grupo\n",
    "lemas_odio = contar_lemas_por_grupo(comment_data, 'odio')\n",
    "lemas_no_odio = contar_lemas_por_grupo(comment_data, 'no odio')\n",
    "\n",
    "# Convertimos los diccionarios en una lista de pares (lema, frecuencia)\n",
    "lemas_odio_items = lemas_odio.items() # Lista de tuplas (lema, frecuencia)\n",
    "lemas_no_odio_items = lemas_no_odio.items() # Lista de tuplas (lema, frecuencia)\n",
    "\n",
    "# Ordenamos las listas por frecuencia en orden descendente\n",
    "lemas_odio_sorted = sorted(lemas_odio_items, key=lambda x: x[1], reverse=True)\n",
    "lemas_no_odio_sorted = sorted(lemas_no_odio_items, key=lambda x: x[1], reverse=True)\n",
    "\n",
    "# Seleccionamos los primeros 100 lemas más frecuentes\n",
    "top_100_lemas_odio = lemas_odio_sorted[:100]\n",
    "top_100_lemas_no_odio = lemas_no_odio_sorted[:100]\n",
    "\n",
    "# Mostramos los resultados\n",
    "print(\"Top 100 lemas más repetidos en el grupo 'odio':\")\n",
    "for lema, count in top_100_lemas_odio:\n",
    "    print(f\"{lema}: {count}\")\n",
    "\n",
    "print(\"\\nTop 100 lemas más repetidos en el grupo 'no odio':\")\n",
    "for lema, count in top_100_lemas_no_odio:\n",
    "    print(f\"{lema}: {count}\")"
   ]
  },
  {
   "cell_type": "markdown",
   "metadata": {
    "id": "Qr07AmIQmgFI"
   },
   "source": [
    "### Explicación del Código\n",
    "\n",
    "El análisis comienza con la función `contar_lemas_por_grupo`, que es fundamental para procesar y categorizar los lemas dentro de los comentarios de cada grupo.\n",
    "\n",
    "Esta función opera filtrando primero los comentarios del grupo especificado dentro del dataframe completo. Este filtrado asegura que solo los comentarios relevantes sean considerados en el análisis. Una vez que se tienen los datos del grupo, se itera sobre cada comentario previamente procesado por spaCy y, dentro de cada uno, se recorren todos los tokens. Durante esta iteración, se aplican diversos filtros para garantizar que los lemas seleccionados sean significativos y representativos del texto. Se excluyen las *stopwords* (palabras vacías) y los signos de puntuación mediante los atributos `token.is_stop` y `token.is_punct`. Además, se descartan lemas vacíos o compuestos por un único carácter mediante la condición `len(token.lemma_.strip()) > 1`, lo que evita que elementos como espacios o caracteres sueltos (e.g., `\"q\"` o `\" \"`) entren en el conteo.\n",
    "\n",
    "Cada lema se convierte a minúsculas para garantizar uniformidad y evitar duplicidades causadas por diferencias de capitalización. Los lemas se registran en un diccionario, donde cada lema es una clave y su número de ocurrencias es el valor asociado. Si el lema no está aún en el diccionario, se inicializa con un conteo de uno; si ya existe, se incrementa su conteo. Este proceso genera un diccionario que refleja la frecuencia de cada lema dentro del grupo especificado de manera limpia y precisa.\n",
    "\n",
    "Una vez que se ha compilado el conteo de lemas para cada grupo, se pasa a ordenar y seleccionar los lemas más frecuentes. Los diccionarios de lemas se transforman en listas de pares (lema, frecuencia) y se ordenan en orden descendente según la frecuencia. Este ordenamiento se realiza utilizando la función `sorted()`, especificando que los elementos deben ordenarse según el valor de frecuencia (el segundo elemento de cada par) mediante `key=lambda x: x[1]`, y que se muestren en orden descendente con el argumento `reverse=True`.\n",
    "\n",
    "Por último, se seleccionan los 100 lemas más frecuentes de cada grupo. Estos resultados se presentan en consola, donde se listan los lemas junto con sus frecuencias."
   ]
  },
  {
   "cell_type": "markdown",
   "metadata": {
    "id": "TRSUNGXjmgFI"
   },
   "source": [
    "<span style=\"font-size: 14pt; font-weight: bold; color: #0098cd;\">Pregunta 11.</span>\n",
    "<span style=\"font-size: 14pt; font-weight: bold; color: #0098cd;\">¿Es posible utilizar alguna de las características extraídas en las preguntas anteriores para determinar si un mensaje contiene odio? Justifica tu respuesta con el análisis estadístico que consideres necesario.</span>"
   ]
  },
  {
   "cell_type": "markdown",
   "metadata": {
    "id": "e78Sd2PcLvGJ"
   },
   "source": [
    "Las características extraídas en las preguntas anteriores, como la frecuencia y tipo de entidades nombradas (NER), el conteo de lemas y la estructura sintáctica (número de oraciones), nos ofrecen *insights* valiosos que podrían ser utilizados para determinar si un mensaje contiene odio.\n",
    "\n",
    "Por su parte, el Reconocimiento de Entidades Nombradas (NER) puede mostrarnos como los mensajes de odio podrían contener más entidades de ciertos tipos (como 'PER' o 'NORP') que podrían indicar objetivos específicos de ataques discriminatorios o abusivos.\n",
    "Se podria realizar un test de Chi-cuadrado para comparar las frecuencias de ciertas entidades en mensajes clasificados como 'odio' y 'no odio'. Una diferencia significativa podría indicar que estas entidades son predictores útiles de contenido de odio.\n",
    "\n",
    "Por otro lado, el análisis de frecuencia de lemas mostraría si los mensajes de odio pueden emplear un vocabulario distinto, incluyendo insultos o lenguaje negativo más frecuentemente que mensajes no ofensivos.\n",
    "Se podría comparar las distribuciones de los lemas más frecuentes en cada grupo utilizando la prueba t-Student para muestras independientes. Identificar palabras que son significativamente más comunes en el discurso de odio podría ayudar a construir un modelo predictivo.\n",
    "\n",
    "Además, la estructura de los mensajes, como el número de oraciones, podría diferir en los mensajes de odio comparado con otros tipos de comunicación, posiblemente reflejando mayor agresividad o directividad.\n",
    "\n",
    "Para llevar a cabo este análisis de manera efectiva se utilizarán los datos adquiridos en las preguntas anteriores y seguirán los siguientes pasos:"
   ]
  },
  {
   "cell_type": "markdown",
   "metadata": {
    "id": "DJmKAOZ9Ks4A"
   },
   "source": [
    "### 1. Preparar el entorno y explorar los datos\n"
   ]
  },
  {
   "cell_type": "code",
   "execution_count": null,
   "metadata": {
    "colab": {
     "base_uri": "https://localhost:8080/"
    },
    "id": "nUhwIHrAmgFI",
    "outputId": "1b905d56-7875-4952-d5f8-63a50833b871"
   },
   "outputs": [
    {
     "name": "stdout",
     "output_type": "stream",
     "text": [
      "Comentarios en grupo 'ODIO': 367\n",
      "Comentarios en grupo 'NO ODIO': 11239\n"
     ]
    }
   ],
   "source": [
    "# Dividimos los datos en dos subconjuntos según el grupo\n",
    "odio_data = comment_data[comment_data['grupo'] == 'odio']\n",
    "no_odio_data = comment_data[comment_data['grupo'] == 'no odio']\n",
    "\n",
    "# Exploramos cuántos registros hay en cada grupo\n",
    "print(f\"Comentarios en grupo 'ODIO': {odio_data.shape[0]}\")\n",
    "print(f\"Comentarios en grupo 'NO ODIO': {no_odio_data.shape[0]}\")"
   ]
  },
  {
   "cell_type": "markdown",
   "metadata": {
    "id": "NwYceMXvK2Ki"
   },
   "source": [
    "### 2. Comparar el número promedio de palabras por grupo"
   ]
  },
  {
   "cell_type": "code",
   "execution_count": null,
   "metadata": {
    "colab": {
     "base_uri": "https://localhost:8080/"
    },
    "id": "dWlQfeZ6K2YI",
    "outputId": "b9ac15e2-1b3e-46e0-a57a-e40c4b8568d3"
   },
   "outputs": [
    {
     "name": "stdout",
     "output_type": "stream",
     "text": [
      "Promedio de palabras en 'ODIO': 15.82\n",
      "Promedio de palabras en 'NO ODIO': 48.76\n"
     ]
    }
   ],
   "source": [
    "# Mostramos los resultados reutilizando los promedios ya calculados\n",
    "print(f\"Promedio de palabras en 'ODIO': {average_words_odio.round(2)}\")\n",
    "print(f\"Promedio de palabras en 'NO ODIO': {average_words_no_odio.round(2)}\")"
   ]
  },
  {
   "cell_type": "markdown",
   "metadata": {
    "id": "_HaoQ2zOLRkz"
   },
   "source": [
    "### 3. Comparar el número promedio de oraciones por grupo"
   ]
  },
  {
   "cell_type": "code",
   "execution_count": null,
   "metadata": {
    "colab": {
     "base_uri": "https://localhost:8080/"
    },
    "id": "NMheoCgVLGKY",
    "outputId": "d7bb346b-d8a4-4d73-ee3d-9fb28b8f616c"
   },
   "outputs": [
    {
     "name": "stdout",
     "output_type": "stream",
     "text": [
      "Promedio de oraciones en 'ODIO': 1.53\n",
      "Promedio de oraciones en 'NO ODIO': 2.25\n"
     ]
    }
   ],
   "source": [
    "# Mostramos los resultados reutilizando los promedios ya calculados\n",
    "print(f\"Promedio de oraciones en 'ODIO': {average_sentences_odio.round(2)}\")\n",
    "print(f\"Promedio de oraciones en 'NO ODIO': {average_sentences_no_odio.round(2)}\")"
   ]
  },
  {
   "cell_type": "markdown",
   "metadata": {
    "id": "nTgBCYl2LMy5"
   },
   "source": [
    "### 4.  Comparar la proporción de comentarios con entidades NER de tipo 'PER'"
   ]
  },
  {
   "cell_type": "code",
   "execution_count": null,
   "metadata": {
    "colab": {
     "base_uri": "https://localhost:8080/"
    },
    "collapsed": true,
    "id": "33x9ydATLJju",
    "jupyter": {
     "outputs_hidden": true
    },
    "outputId": "1929ed93-a516-4579-f5c8-c0ed09344349"
   },
   "outputs": [
    {
     "name": "stdout",
     "output_type": "stream",
     "text": [
      "Porcentaje de comentarios con entidades 'PER' en 'ODIO': 20.44%\n",
      "Porcentaje de comentarios con entidades 'PER' en 'NO ODIO': 20.45%\n"
     ]
    }
   ],
   "source": [
    "# Mostramos los resultados reutilizando los porcentajes ya calculados\n",
    "print(f\"Porcentaje de comentarios con entidades 'PER' en 'ODIO': {percentage_person_odio.round(2)}%\")\n",
    "print(f\"Porcentaje de comentarios con entidades 'PER' en 'NO ODIO': {percentage_person_no_odio.round(2)}%\")"
   ]
  },
  {
   "cell_type": "markdown",
   "metadata": {
    "id": "fLG2tl48LaQQ"
   },
   "source": [
    "### 5. Analizar la distribución de lemas en ambos grupos"
   ]
  },
  {
   "cell_type": "code",
   "execution_count": null,
   "metadata": {
    "colab": {
     "base_uri": "https://localhost:8080/"
    },
    "id": "MSJtMTH1LdVo",
    "outputId": "f6f21504-cec5-4dee-e511-3235f6c8fc6b"
   },
   "outputs": [
    {
     "name": "stdout",
     "output_type": "stream",
     "text": [
      "Top 10 lemas en 'ODIO':\n",
      "mierda: 27\n",
      "gobierno: 17\n",
      "mentiroso: 15\n",
      "puta: 15\n",
      "basura: 15\n",
      "españa: 15\n",
      "panfleto: 15\n",
      "asco: 15\n",
      "español: 13\n",
      "gente: 12\n",
      "\n",
      "Top 10 lemas en 'NO ODIO':\n",
      "año: 1197\n",
      "gobierno: 977\n",
      "españa: 785\n",
      "persona: 766\n",
      "caso: 727\n",
      "ver: 643\n",
      "país: 636\n",
      "pasar: 562\n",
      "gente: 537\n",
      "madrid: 535\n"
     ]
    }
   ],
   "source": [
    "# Seleccionamos los 10 lemas más frecuentes de los ya calculados en la pregunta 10\n",
    "top_10_lemas_odio = top_100_lemas_odio[:10]\n",
    "top_10_lemas_no_odio = top_100_lemas_no_odio[:10]\n",
    "\n",
    "# Mostramos los resultados\n",
    "print(\"Top 10 lemas en 'ODIO':\")\n",
    "for lema, count in top_10_lemas_odio:\n",
    "    print(f\"{lema}: {count}\")\n",
    "\n",
    "print(\"\\nTop 10 lemas en 'NO ODIO':\")\n",
    "for lema, count in top_10_lemas_no_odio:\n",
    "    print(f\"{lema}: {count}\")"
   ]
  },
  {
   "cell_type": "markdown",
   "metadata": {
    "id": "Cj0gesghLgnP"
   },
   "source": [
    "### 6. Realizar un análisis estadístico básico"
   ]
  },
  {
   "cell_type": "code",
   "execution_count": null,
   "metadata": {
    "colab": {
     "base_uri": "https://localhost:8080/",
     "height": 918
    },
    "id": "F6HKM2bsLfMU",
    "outputId": "2e682d6f-70a4-4b75-d77e-ddc7c11ac86f"
   },
   "outputs": [
    {
     "name": "stdout",
     "output_type": "stream",
     "text": [
      "Comentario: \"Esa noticia es una basura y pura propaganda.\"\n",
      "Contiene odio: Sí\n",
      "\n",
      "Comentario: \"El gobierno está trabajando duro para resolver los problemas.\"\n",
      "Contiene odio: Sí\n",
      "\n",
      "Comentario: \"No entiendo cómo alguien puede ser tan incompetente, es una vergüenza.\"\n",
      "Contiene odio: Sí\n",
      "\n",
      "Comentario: \"Gracias por la información tan detallada, siempre útil.\"\n",
      "Contiene odio: No\n",
      "\n",
      "Comentario: \"Esto es increíblemente injusto, están destruyendo todo lo que hemos construido.\"\n",
      "Contiene odio: Sí\n",
      "\n",
      "Comentario: \"El presidente dio un discurso que dejó a todos impresionados por su claridad.\"\n",
      "Contiene odio: Sí\n",
      "\n",
      "Comentario: \"¡Qué desastre de noticia! Solo saben mentir y manipular a la gente.\"\n",
      "Contiene odio: Sí\n",
      "\n",
      "Comentario: \"Me parece una opinión válida, aunque no estoy del todo de acuerdo.\"\n",
      "Contiene odio: Sí\n",
      "\n",
      "Comentario: \"La corrupción en este país es insostenible, necesitamos un cambio urgente.\"\n",
      "Contiene odio: Sí\n",
      "\n",
      "Comentario: \"Es genial ver cómo la comunidad se une para resolver problemas.\"\n",
      "Contiene odio: No\n",
      "\n"
     ]
    },
    {
     "data": {
      "image/png": "[encoded data removed]",
      "text/plain": [
       "<Figure size 400x400 with 1 Axes>"
      ]
     },
     "metadata": {},
     "output_type": "display_data"
    }
   ],
   "source": [
    "# Función para determinar si un comentario contiene odio\n",
    "def detectar_odio(texto):\n",
    "    # Procesamos el texto con spaCy\n",
    "    doc = nlp(texto.lower())\n",
    "    # Verificamos si algún lema del texto está en los top lemas de \"odio\" ya calculados\n",
    "    for token in doc:\n",
    "        if token.lemma_ in [lema for lema, _ in top_100_lemas_odio]:  # Reutilizamos top_100_lemas_odio\n",
    "            return True\n",
    "    return False\n",
    "\n",
    "# Ejemplo de comentarios\n",
    "comentarios_ejemplo = [\n",
    "    \"Esa noticia es una basura y pura propaganda.\",  # Corto, contenido de odio\n",
    "    \"El gobierno está trabajando duro para resolver los problemas.\",  # Corto, sin odio\n",
    "    \"No entiendo cómo alguien puede ser tan incompetente, es una vergüenza.\",  # Mediano, con posible odio\n",
    "    \"Gracias por la información tan detallada, siempre útil.\",  # Mediano, sin odio\n",
    "    \"Esto es increíblemente injusto, están destruyendo todo lo que hemos construido.\",  # Largo, con posible odio\n",
    "    \"El presidente dio un discurso que dejó a todos impresionados por su claridad.\",  # Largo, sin odio\n",
    "    \"¡Qué desastre de noticia! Solo saben mentir y manipular a la gente.\",  # Corto, contenido de odio\n",
    "    \"Me parece una opinión válida, aunque no estoy del todo de acuerdo.\",  # Mediano, sin odio\n",
    "    \"La corrupción en este país es insostenible, necesitamos un cambio urgente.\",  # Largo, con posible odio\n",
    "    \"Es genial ver cómo la comunidad se une para resolver problemas.\",  # Mediano, sin odio\n",
    "]\n",
    "\n",
    "# Clasificamos los comentarios y mostramos el resultado\n",
    "clasificaciones = []\n",
    "for comentario in comentarios_ejemplo:\n",
    "    es_odio = detectar_odio(comentario)\n",
    "    clasificaciones.append('odio' if es_odio else 'no odio')\n",
    "    print(f\"Comentario: \\\"{comentario}\\\"\")\n",
    "    print(f\"Contiene odio: {'Sí' if es_odio else 'No'}\\n\")\n",
    "\n",
    "# Resumimos los resultados para graficar\n",
    "resultados = {\"odio\": clasificaciones.count('odio'), \"no odio\": clasificaciones.count('no odio')}\n",
    "\n",
    "# Crear el gráfico de tarta\n",
    "plt.figure(figsize=(4, 4))\n",
    "plt.pie(\n",
    "    resultados.values(),\n",
    "    labels=resultados.keys(),\n",
    "    autopct='%1.1f%%',\n",
    "    startangle=140,\n",
    "    colors=['red', 'green'],\n",
    ")\n",
    "plt.title(\"Distribución de comentarios clasificados como 'odio' y 'no odio'\")\n",
    "plt.show()"
   ]
  },
  {
   "cell_type": "markdown",
   "metadata": {
    "id": "OirOUI0wmgFJ"
   },
   "source": [
    "El código comienza con la definición de una función llamada `detectar_odio`, cuyo propósito es analizar un texto y determinar si contiene palabras asociadas con comentarios de odio. Para ello, el texto se procesa y se representa como un objeto `doc`. La función recorre cada token del texto y verifica si su lema está presente en la lista `top_100_lemas_odio`, que contiene los lemas más frecuentes asociados con el odio en los datos previamente analizados. Si encuentra un lema coincidente, la función retorna `True`, indicando que el comentario contiene odio. Si no encuentra coincidencias, retorna `False`.\n",
    "\n",
    "Después de definir la función, se proporciona una lista de comentarios de ejemplo que representan una mezcla de opiniones negativas y positivas de diferentes longitudes. Estos comentarios se clasifican utilizando la función `detectar_odio`, y el resultado de cada clasificación se almacena en una lista llamada `clasificaciones`. Para cada comentario, el programa imprime el texto junto con el resultado de la clasificación, indicando si el comentario contiene odio o no.\n",
    "\n",
    "Posteriormente, los resultados se resumen en un diccionario llamado `resultados`, que almacena el conteo de comentarios clasificados como \"odio\" y \"no odio\". Este conteo se utiliza para generar un gráfico de tarta que visualiza la proporción de comentarios clasificados en ambas categorías. El gráfico se genera utilizando la biblioteca `matplotlib`, donde las categorías \"odio\" y \"no odio\" se representan con colores diferenciados (rojo y verde, respectivamente), y los porcentajes se muestran dentro de las secciones correspondientes. Este gráfico proporciona una representación visual clara de la distribución de los comentarios según su clasificación.\n",
    "\n",
    "Es importante destacar que la clasificación no es completamente precisa debido a las limitaciones inherentes al método basado en palabras clave. Por ejemplo, comentarios neutrales o positivos que contienen palabras frecuentes en comentarios de odio, como \"gobierno\" o \"presidente\", pueden clasificarse erróneamente como \"odio\". De manera similar, comentarios de odio que no contienen palabras clave específicas pueden pasar desapercibidos. Aunque esta aproximación es útil para análisis exploratorios iniciales, no es adecuada para contextos que requieren una alta precisión."
   ]
  }
 ],
 "metadata": {
  "colab": {
   "provenance": [],
   "toc_visible": true
  },
  "kernelspec": {
   "display_name": "Python 3 (ipykernel)",
   "language": "python",
   "name": "python3"
  },
  "language_info": {
   "codemirror_mode": {
    "name": "ipython",
    "version": 3
   },
   "file_extension": ".py",
   "mimetype": "text/x-python",
   "name": "python",
   "nbconvert_exporter": "python",
   "pygments_lexer": "ipython3",
   "version": "3.12.4"
  }
 },
 "nbformat": 4,
 "nbformat_minor": 4
}
